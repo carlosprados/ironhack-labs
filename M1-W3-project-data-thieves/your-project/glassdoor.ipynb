{
 "cells": [
  {
   "cell_type": "markdown",
   "metadata": {},
   "source": [
    "# Glassdoor dataset"
   ]
  },
  {
   "cell_type": "code",
   "execution_count": 2,
   "metadata": {},
   "outputs": [],
   "source": [
    "import pandas as pd"
   ]
  },
  {
   "cell_type": "code",
   "execution_count": 3,
   "metadata": {},
   "outputs": [],
   "source": [
    "gd = pd.read_csv('glassdoor.csv')"
   ]
  },
  {
   "cell_type": "code",
   "execution_count": 48,
   "metadata": {},
   "outputs": [
    {
     "data": {
      "text/html": [
       "<div>\n",
       "<style scoped>\n",
       "    .dataframe tbody tr th:only-of-type {\n",
       "        vertical-align: middle;\n",
       "    }\n",
       "\n",
       "    .dataframe tbody tr th {\n",
       "        vertical-align: top;\n",
       "    }\n",
       "\n",
       "    .dataframe thead th {\n",
       "        text-align: right;\n",
       "    }\n",
       "</style>\n",
       "<table border=\"1\" class=\"dataframe\">\n",
       "  <thead>\n",
       "    <tr style=\"text-align: right;\">\n",
       "      <th></th>\n",
       "      <th>header.payMed</th>\n",
       "      <th>header.location</th>\n",
       "    </tr>\n",
       "  </thead>\n",
       "  <tbody>\n",
       "    <tr>\n",
       "      <td>22</td>\n",
       "      <td>159427.0</td>\n",
       "      <td>Watertown, MA</td>\n",
       "    </tr>\n",
       "    <tr>\n",
       "      <td>28</td>\n",
       "      <td>115139.0</td>\n",
       "      <td>Jersey City, NJ</td>\n",
       "    </tr>\n",
       "    <tr>\n",
       "      <td>1222</td>\n",
       "      <td>110666.0</td>\n",
       "      <td>Herndon, VA</td>\n",
       "    </tr>\n",
       "    <tr>\n",
       "      <td>1642</td>\n",
       "      <td>109985.0</td>\n",
       "      <td>San Diego, CA</td>\n",
       "    </tr>\n",
       "    <tr>\n",
       "      <td>1751</td>\n",
       "      <td>127626.0</td>\n",
       "      <td>New York, NY</td>\n",
       "    </tr>\n",
       "    <tr>\n",
       "      <td>...</td>\n",
       "      <td>...</td>\n",
       "      <td>...</td>\n",
       "    </tr>\n",
       "    <tr>\n",
       "      <td>162508</td>\n",
       "      <td>105817.0</td>\n",
       "      <td>McLean, VA</td>\n",
       "    </tr>\n",
       "    <tr>\n",
       "      <td>163292</td>\n",
       "      <td>117771.0</td>\n",
       "      <td>New York, NY</td>\n",
       "    </tr>\n",
       "    <tr>\n",
       "      <td>163413</td>\n",
       "      <td>232200.0</td>\n",
       "      <td>Foster City, CA</td>\n",
       "    </tr>\n",
       "    <tr>\n",
       "      <td>164873</td>\n",
       "      <td>76950.0</td>\n",
       "      <td>Green Bay, WI</td>\n",
       "    </tr>\n",
       "    <tr>\n",
       "      <td>165058</td>\n",
       "      <td>87278.0</td>\n",
       "      <td>Columbia, MD</td>\n",
       "    </tr>\n",
       "  </tbody>\n",
       "</table>\n",
       "<p>311 rows × 2 columns</p>\n",
       "</div>"
      ],
      "text/plain": [
       "        header.payMed  header.location\n",
       "22           159427.0    Watertown, MA\n",
       "28           115139.0  Jersey City, NJ\n",
       "1222         110666.0      Herndon, VA\n",
       "1642         109985.0    San Diego, CA\n",
       "1751         127626.0     New York, NY\n",
       "...               ...              ...\n",
       "162508       105817.0       McLean, VA\n",
       "163292       117771.0     New York, NY\n",
       "163413       232200.0  Foster City, CA\n",
       "164873        76950.0    Green Bay, WI\n",
       "165058        87278.0     Columbia, MD\n",
       "\n",
       "[311 rows x 2 columns]"
      ]
     },
     "metadata": {},
     "output_type": "display_data"
    }
   ],
   "source": [
    "display(gd[['header.payMed', 'header.location']][(gd['header.jobTitle'].str.lower().str.contains('data scientist')) & (gd['header.payMed'].isnull() == False)])"
   ]
  },
  {
   "cell_type": "code",
   "execution_count": 41,
   "metadata": {},
   "outputs": [
    {
     "name": "stdout",
     "output_type": "stream",
     "text": [
      "0                          NaN\n",
      "1         United Kingdom Pound\n",
      "2                          NaN\n",
      "3                          NaN\n",
      "4                          NaN\n",
      "                  ...         \n",
      "165285                     NaN\n",
      "165286    United Kingdom Pound\n",
      "165287                     NaN\n",
      "165288                     NaN\n",
      "165289                     NaN\n",
      "Name: salary.currency.name, Length: 165290, dtype: object\n"
     ]
    }
   ],
   "source": [
    "print(gd['salary.currency.name'])"
   ]
  },
  {
   "cell_type": "code",
   "execution_count": 63,
   "metadata": {},
   "outputs": [
    {
     "data": {
      "text/plain": [
       "100000.0    10\n",
       "70000.0      9\n",
       "82500.0      8\n",
       "110000.0     7\n",
       "71343.0      7\n",
       "            ..\n",
       "110550.0     1\n",
       "47847.0      1\n",
       "94247.0      1\n",
       "60222.0      1\n",
       "46667.0      1\n",
       "Name: header.payMed, Length: 2280, dtype: int64"
      ]
     },
     "execution_count": 63,
     "metadata": {},
     "output_type": "execute_result"
    }
   ],
   "source": [
    "gd['header.payMed'][(gd['header.jobTitle'].str.lower().str.contains('data scientist')) & gd['header.payMed'].isnull() == False].value_counts()"
   ]
  },
  {
   "cell_type": "code",
   "execution_count": null,
   "metadata": {},
   "outputs": [],
   "source": []
  }
 ],
 "metadata": {
  "kernelspec": {
   "display_name": "Python 3",
   "language": "python",
   "name": "python3"
  },
  "language_info": {
   "codemirror_mode": {
    "name": "ipython",
    "version": 3
   },
   "file_extension": ".py",
   "mimetype": "text/x-python",
   "name": "python",
   "nbconvert_exporter": "python",
   "pygments_lexer": "ipython3",
   "version": "3.7.4"
  }
 },
 "nbformat": 4,
 "nbformat_minor": 2
}
