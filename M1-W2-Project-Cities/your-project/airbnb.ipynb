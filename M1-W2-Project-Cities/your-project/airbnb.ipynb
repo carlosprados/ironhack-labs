{
 "cells": [
  {
   "cell_type": "code",
   "execution_count": 175,
   "metadata": {},
   "outputs": [],
   "source": [
    "import pandas as pd\n",
    "import glob"
   ]
  },
  {
   "cell_type": "markdown",
   "metadata": {},
   "source": [
    "# Gathering data"
   ]
  },
  {
   "cell_type": "code",
   "execution_count": 176,
   "metadata": {
    "scrolled": true
   },
   "outputs": [],
   "source": [
    "# CSV: get data file names\n",
    "path ='airbnb_data/used/'\n",
    "filenames = glob.glob(path + \"*.csv\")\n",
    "data = pd.concat([pd.read_csv(file) for file in filenames])"
   ]
  },
  {
   "cell_type": "code",
   "execution_count": 177,
   "metadata": {},
   "outputs": [],
   "source": [
    "# 2018-2019 datas\n",
    "\n",
    "def get_lisbon(file):\n",
    "    data_month = pd.read_csv(file, usecols = ['neighbourhood_group', 'room_type', 'price'])\n",
    "    listings = len(data_month[data_month['neighbourhood_group'] == 'Lisboa'])\n",
    "    \n",
    "    room = len(data_month[(data_month['room_type'] == 'Private room') & (data_month['neighbourhood_group'] == 'Lisboa')])\n",
    "    avg_room = data_month['price'][(data_month['room_type'] == 'Private room') & (data_month['neighbourhood_group'] == 'Lisboa')].mean()\n",
    "    \n",
    "    shared_room = len(data_month[(data_month['room_type'] == 'Shared room') & (data_month['neighbourhood_group'] == 'Lisboa')])\n",
    "    avg_shared_room = data_month['price'][(data_month['room_type'] == 'Shared room') & (data_month['neighbourhood_group'] == 'Lisboa')].mean()\n",
    "    \n",
    "    apt = len(data_month[(data_month['room_type'] == 'Entire home/apt') & (data_month['neighbourhood_group'] == 'Lisboa')])\n",
    "    avg_apt = data_month['price'][(data_month['room_type'] == 'Entire home/apt') & (data_month['neighbourhood_group'] == 'Lisboa')].mean()\n",
    "    \n",
    "    return listings, room, avg_room, shared_room, avg_shared_room, apt, avg_apt\n",
    "\n",
    "lisbon_monthly = [get_lisbon(x) for x in filenames]"
   ]
  },
  {
   "cell_type": "code",
   "execution_count": 178,
   "metadata": {},
   "outputs": [
    {
     "name": "stderr",
     "output_type": "stream",
     "text": [
      "C:\\Users\\Zaca\\Anaconda3\\lib\\site-packages\\ipykernel_launcher.py:4: FutureWarning: Sorting because non-concatenation axis is not aligned. A future version\n",
      "of pandas will change to not sort by default.\n",
      "\n",
      "To accept the future behavior, pass 'sort=False'.\n",
      "\n",
      "To retain the current behavior and silence the warning, pass 'sort=True'.\n",
      "\n",
      "  after removing the cwd from sys.path.\n"
     ]
    }
   ],
   "source": [
    "# 2017 data\n",
    "path2 = 'airbnb_data/used/Older/'\n",
    "filenames2 = glob.glob(path2 + \"*.csv\")\n",
    "data2 = pd.concat([pd.read_csv(file) for file in filenames2])\n",
    "filenames2\n",
    "\n",
    "def get_lisbon2(file):\n",
    "    data_month = pd.read_csv(file, usecols = ['room_type', 'price'])\n",
    "    listings = len(data_month)\n",
    "    \n",
    "    room = len(data_month[data_month['room_type'] == 'Private room'])\n",
    "    avg_room = data_month['price'][(data_month['room_type'] == 'Private room')].mean()\n",
    "    \n",
    "    shared_room = len(data_month[data_month['room_type'] == 'Shared room'])\n",
    "    avg_shared_room = data_month['price'][(data_month['room_type'] == 'Shared room')].mean()\n",
    "    \n",
    "    apt = len(data_month[data_month['room_type'] == 'Entire home/apt'])\n",
    "    avg_apt = data_month['price'][(data_month['room_type'] == 'Entire home/apt')].mean()\n",
    "    \n",
    "    return listings, room, avg_room, shared_room, avg_shared_room, apt, avg_apt\n",
    "\n",
    "lisbon_monthly2 = [get_lisbon2(x) for x in filenames2]"
   ]
  },
  {
   "cell_type": "code",
   "execution_count": 179,
   "metadata": {},
   "outputs": [],
   "source": [
    "#TEST CELL\n",
    "\n",
    "#feb = pd.read_csv('airbnb_data/used/airbnb_august18.csv')\n",
    "#feb[feb['room_type'] == 'Entire home/apt']\n",
    "#room = len(feb[(feb['room_type'] == 'Private room') & (feb['neighbourhood_group'] == 'Lisboa')])"
   ]
  },
  {
   "cell_type": "code",
   "execution_count": 180,
   "metadata": {},
   "outputs": [],
   "source": [
    "#get column names from filenames\n",
    "colnames = [x[24:-4] for x in filenames]\n",
    "colnames2 = [x[30:-4] for x in filenames2]\n",
    "colnames = colnames + colnames2"
   ]
  },
  {
   "cell_type": "code",
   "execution_count": 181,
   "metadata": {},
   "outputs": [],
   "source": [
    "# importing hotel data\n",
    "\n",
    "hotel = pd.read_csv('hotel_short_2.csv',sep = ';')\n",
    "hotel['month'] = [value.replace('Jun','June').replace('Jul','July') for value in hotel['month']]\n",
    "hotel['price'] = [float(value.replace('€','').replace(',','.')) for value in hotel['price'].astype(str)]\n",
    "hotel = hotel.rename(columns={' price ': 'price'})"
   ]
  },
  {
   "cell_type": "markdown",
   "metadata": {},
   "source": [
    "# Cleaning"
   ]
  },
  {
   "cell_type": "code",
   "execution_count": 182,
   "metadata": {},
   "outputs": [],
   "source": [
    "#Cleaning \n",
    "\n",
    "lisbon_airbnb = lisbon_monthly + lisbon_monthly2\n",
    "\n",
    "lisbon_airbnb = pd.DataFrame(lisbon_airbnb, columns = ['Listings', 'Private room', 'Private room average price', 'Shared room', 'Shared room average price', 'Entire apt', 'Entire apt average price'])\n",
    "lisbon_airbnb['Month']=colnames\n",
    "\n",
    "# separate month and year\n",
    "\n",
    "lisbon_airbnb[\"Month\"] = lisbon_airbnb[\"Month\"].str.split('\\d', n = 1)\n",
    "lisbon_airbnb[['Month','Year']] = pd.DataFrame(lisbon_airbnb.Month.values.tolist(), index= lisbon_airbnb.index)\n",
    "\n",
    "year = [str(201) + w for w in lisbon_airbnb['Year']]\n",
    "lisbon_airbnb['Year'] = year\n",
    "\n",
    "lisbon_airbnb[\"Month\"] = lisbon_airbnb[\"Month\"].str.capitalize()\n",
    "\n",
    "#reorder columns\n",
    "\n",
    "column_order = ['Year', 'Month', 'Listings', 'Entire apt', 'Entire apt average price', 'Private room', 'Private room average price', 'Shared room', 'Shared room average price']\n",
    "lisbon_airbnb = lisbon_airbnb[column_order]\n",
    "\n",
    "month_name_dict = {'January' : 1, 'February': 2, 'March': 3, 'April': 4, 'May': 5, 'June': 6, 'July': 7, 'August': 8, 'September': 9, 'October': 10, 'November': 11, 'December': 12}"
   ]
  },
  {
   "cell_type": "code",
   "execution_count": 183,
   "metadata": {},
   "outputs": [],
   "source": [
    "lisbon_airbnb['Month']\n",
    "lisbon_airbnb['Month'].replace(month_name_dict, inplace=True)\n"
   ]
  },
  {
   "cell_type": "code",
   "execution_count": 184,
   "metadata": {},
   "outputs": [
    {
     "name": "stderr",
     "output_type": "stream",
     "text": [
      "C:\\Users\\Zaca\\Anaconda3\\lib\\site-packages\\ipykernel_launcher.py:12: SettingWithCopyWarning: \n",
      "A value is trying to be set on a copy of a slice from a DataFrame.\n",
      "Try using .loc[row_indexer,col_indexer] = value instead\n",
      "\n",
      "See the caveats in the documentation: http://pandas.pydata.org/pandas-docs/stable/user_guide/indexing.html#returning-a-view-versus-a-copy\n",
      "  if sys.path[0] == '':\n",
      "C:\\Users\\Zaca\\Anaconda3\\lib\\site-packages\\ipykernel_launcher.py:13: SettingWithCopyWarning: \n",
      "A value is trying to be set on a copy of a slice from a DataFrame.\n",
      "Try using .loc[row_indexer,col_indexer] = value instead\n",
      "\n",
      "See the caveats in the documentation: http://pandas.pydata.org/pandas-docs/stable/user_guide/indexing.html#returning-a-view-versus-a-copy\n",
      "  del sys.path[0]\n"
     ]
    }
   ],
   "source": [
    "#cleaning hotel data\n",
    "\n",
    "hotel_sh = hotel[hotel['stars'] == 3]\n",
    "hotel_sh.reset_index(inplace=True)\n",
    "\n",
    "price4 = hotel[hotel['stars'] == 4]\n",
    "price4.reset_index(inplace=True)\n",
    "\n",
    "price5 = hotel[hotel['stars'] == 5]\n",
    "price5.reset_index(inplace=True)\n",
    "\n",
    "hotel_sh['price4'] = price4['price']\n",
    "hotel_sh['price5'] = price5['price']\n",
    "hotel_sh = hotel_sh.rename(columns={'price': 'price3'})\n",
    "hotel_sh = hotel_sh.drop(['stars', 'index'], axis=1)"
   ]
  },
  {
   "cell_type": "code",
   "execution_count": 185,
   "metadata": {
    "scrolled": true
   },
   "outputs": [
    {
     "data": {
      "text/html": [
       "<div>\n",
       "<style scoped>\n",
       "    .dataframe tbody tr th:only-of-type {\n",
       "        vertical-align: middle;\n",
       "    }\n",
       "\n",
       "    .dataframe tbody tr th {\n",
       "        vertical-align: top;\n",
       "    }\n",
       "\n",
       "    .dataframe thead th {\n",
       "        text-align: right;\n",
       "    }\n",
       "</style>\n",
       "<table border=\"1\" class=\"dataframe\">\n",
       "  <thead>\n",
       "    <tr style=\"text-align: right;\">\n",
       "      <th></th>\n",
       "      <th>year</th>\n",
       "      <th>month</th>\n",
       "      <th>price3</th>\n",
       "      <th>price4</th>\n",
       "      <th>price5</th>\n",
       "    </tr>\n",
       "  </thead>\n",
       "  <tbody>\n",
       "    <tr>\n",
       "      <td>0</td>\n",
       "      <td>2017</td>\n",
       "      <td>January</td>\n",
       "      <td>51.55</td>\n",
       "      <td>65.50</td>\n",
       "      <td>129.67</td>\n",
       "    </tr>\n",
       "    <tr>\n",
       "      <td>1</td>\n",
       "      <td>2017</td>\n",
       "      <td>February</td>\n",
       "      <td>50.35</td>\n",
       "      <td>66.03</td>\n",
       "      <td>128.15</td>\n",
       "    </tr>\n",
       "    <tr>\n",
       "      <td>2</td>\n",
       "      <td>2017</td>\n",
       "      <td>March</td>\n",
       "      <td>54.66</td>\n",
       "      <td>70.58</td>\n",
       "      <td>138.63</td>\n",
       "    </tr>\n",
       "    <tr>\n",
       "      <td>3</td>\n",
       "      <td>2017</td>\n",
       "      <td>April</td>\n",
       "      <td>74.49</td>\n",
       "      <td>88.92</td>\n",
       "      <td>169.53</td>\n",
       "    </tr>\n",
       "    <tr>\n",
       "      <td>4</td>\n",
       "      <td>2017</td>\n",
       "      <td>May</td>\n",
       "      <td>78.44</td>\n",
       "      <td>96.92</td>\n",
       "      <td>182.69</td>\n",
       "    </tr>\n",
       "    <tr>\n",
       "      <td>5</td>\n",
       "      <td>2017</td>\n",
       "      <td>June</td>\n",
       "      <td>74.03</td>\n",
       "      <td>90.30</td>\n",
       "      <td>170.80</td>\n",
       "    </tr>\n",
       "    <tr>\n",
       "      <td>6</td>\n",
       "      <td>2017</td>\n",
       "      <td>July</td>\n",
       "      <td>72.59</td>\n",
       "      <td>85.73</td>\n",
       "      <td>163.68</td>\n",
       "    </tr>\n",
       "    <tr>\n",
       "      <td>7</td>\n",
       "      <td>2017</td>\n",
       "      <td>August</td>\n",
       "      <td>75.26</td>\n",
       "      <td>86.34</td>\n",
       "      <td>159.05</td>\n",
       "    </tr>\n",
       "    <tr>\n",
       "      <td>8</td>\n",
       "      <td>2017</td>\n",
       "      <td>September</td>\n",
       "      <td>89.77</td>\n",
       "      <td>109.60</td>\n",
       "      <td>200.97</td>\n",
       "    </tr>\n",
       "    <tr>\n",
       "      <td>9</td>\n",
       "      <td>2017</td>\n",
       "      <td>October</td>\n",
       "      <td>85.00</td>\n",
       "      <td>108.92</td>\n",
       "      <td>195.91</td>\n",
       "    </tr>\n",
       "    <tr>\n",
       "      <td>10</td>\n",
       "      <td>2017</td>\n",
       "      <td>November</td>\n",
       "      <td>62.81</td>\n",
       "      <td>83.63</td>\n",
       "      <td>164.98</td>\n",
       "    </tr>\n",
       "    <tr>\n",
       "      <td>11</td>\n",
       "      <td>2017</td>\n",
       "      <td>December</td>\n",
       "      <td>NaN</td>\n",
       "      <td>NaN</td>\n",
       "      <td>NaN</td>\n",
       "    </tr>\n",
       "    <tr>\n",
       "      <td>12</td>\n",
       "      <td>2018</td>\n",
       "      <td>January</td>\n",
       "      <td>58.93</td>\n",
       "      <td>72.82</td>\n",
       "      <td>147.69</td>\n",
       "    </tr>\n",
       "    <tr>\n",
       "      <td>13</td>\n",
       "      <td>2018</td>\n",
       "      <td>February</td>\n",
       "      <td>57.17</td>\n",
       "      <td>71.25</td>\n",
       "      <td>143.27</td>\n",
       "    </tr>\n",
       "    <tr>\n",
       "      <td>14</td>\n",
       "      <td>2018</td>\n",
       "      <td>March</td>\n",
       "      <td>65.60</td>\n",
       "      <td>83.21</td>\n",
       "      <td>153.34</td>\n",
       "    </tr>\n",
       "    <tr>\n",
       "      <td>15</td>\n",
       "      <td>2018</td>\n",
       "      <td>April</td>\n",
       "      <td>82.37</td>\n",
       "      <td>95.02</td>\n",
       "      <td>174.53</td>\n",
       "    </tr>\n",
       "    <tr>\n",
       "      <td>16</td>\n",
       "      <td>2018</td>\n",
       "      <td>May</td>\n",
       "      <td>97.39</td>\n",
       "      <td>110.54</td>\n",
       "      <td>199.30</td>\n",
       "    </tr>\n",
       "    <tr>\n",
       "      <td>17</td>\n",
       "      <td>2018</td>\n",
       "      <td>June</td>\n",
       "      <td>90.37</td>\n",
       "      <td>104.61</td>\n",
       "      <td>193.39</td>\n",
       "    </tr>\n",
       "    <tr>\n",
       "      <td>18</td>\n",
       "      <td>2018</td>\n",
       "      <td>July</td>\n",
       "      <td>91.41</td>\n",
       "      <td>101.76</td>\n",
       "      <td>194.98</td>\n",
       "    </tr>\n",
       "    <tr>\n",
       "      <td>19</td>\n",
       "      <td>2018</td>\n",
       "      <td>August</td>\n",
       "      <td>84.68</td>\n",
       "      <td>92.87</td>\n",
       "      <td>182.09</td>\n",
       "    </tr>\n",
       "    <tr>\n",
       "      <td>20</td>\n",
       "      <td>2018</td>\n",
       "      <td>September</td>\n",
       "      <td>94.25</td>\n",
       "      <td>110.36</td>\n",
       "      <td>193.95</td>\n",
       "    </tr>\n",
       "    <tr>\n",
       "      <td>21</td>\n",
       "      <td>2018</td>\n",
       "      <td>October</td>\n",
       "      <td>87.85</td>\n",
       "      <td>102.77</td>\n",
       "      <td>189.10</td>\n",
       "    </tr>\n",
       "    <tr>\n",
       "      <td>22</td>\n",
       "      <td>2018</td>\n",
       "      <td>November</td>\n",
       "      <td>70.35</td>\n",
       "      <td>88.04</td>\n",
       "      <td>170.06</td>\n",
       "    </tr>\n",
       "    <tr>\n",
       "      <td>23</td>\n",
       "      <td>2018</td>\n",
       "      <td>December</td>\n",
       "      <td>NaN</td>\n",
       "      <td>NaN</td>\n",
       "      <td>NaN</td>\n",
       "    </tr>\n",
       "    <tr>\n",
       "      <td>24</td>\n",
       "      <td>2019</td>\n",
       "      <td>January</td>\n",
       "      <td>58.58</td>\n",
       "      <td>75.29</td>\n",
       "      <td>152.19</td>\n",
       "    </tr>\n",
       "    <tr>\n",
       "      <td>25</td>\n",
       "      <td>2019</td>\n",
       "      <td>February</td>\n",
       "      <td>56.10</td>\n",
       "      <td>72.75</td>\n",
       "      <td>148.78</td>\n",
       "    </tr>\n",
       "    <tr>\n",
       "      <td>26</td>\n",
       "      <td>2019</td>\n",
       "      <td>March</td>\n",
       "      <td>68.05</td>\n",
       "      <td>89.97</td>\n",
       "      <td>156.12</td>\n",
       "    </tr>\n",
       "    <tr>\n",
       "      <td>27</td>\n",
       "      <td>2019</td>\n",
       "      <td>April</td>\n",
       "      <td>84.44</td>\n",
       "      <td>100.86</td>\n",
       "      <td>178.87</td>\n",
       "    </tr>\n",
       "    <tr>\n",
       "      <td>28</td>\n",
       "      <td>2019</td>\n",
       "      <td>May</td>\n",
       "      <td>93.23</td>\n",
       "      <td>112.18</td>\n",
       "      <td>196.77</td>\n",
       "    </tr>\n",
       "    <tr>\n",
       "      <td>29</td>\n",
       "      <td>2019</td>\n",
       "      <td>June</td>\n",
       "      <td>94.06</td>\n",
       "      <td>118.90</td>\n",
       "      <td>212.56</td>\n",
       "    </tr>\n",
       "    <tr>\n",
       "      <td>30</td>\n",
       "      <td>2019</td>\n",
       "      <td>July</td>\n",
       "      <td>83.82</td>\n",
       "      <td>96.30</td>\n",
       "      <td>178.18</td>\n",
       "    </tr>\n",
       "    <tr>\n",
       "      <td>31</td>\n",
       "      <td>2019</td>\n",
       "      <td>August</td>\n",
       "      <td>80.98</td>\n",
       "      <td>95.98</td>\n",
       "      <td>168.26</td>\n",
       "    </tr>\n",
       "    <tr>\n",
       "      <td>32</td>\n",
       "      <td>2019</td>\n",
       "      <td>September</td>\n",
       "      <td>NaN</td>\n",
       "      <td>NaN</td>\n",
       "      <td>NaN</td>\n",
       "    </tr>\n",
       "    <tr>\n",
       "      <td>33</td>\n",
       "      <td>2019</td>\n",
       "      <td>October</td>\n",
       "      <td>NaN</td>\n",
       "      <td>NaN</td>\n",
       "      <td>NaN</td>\n",
       "    </tr>\n",
       "    <tr>\n",
       "      <td>34</td>\n",
       "      <td>2019</td>\n",
       "      <td>November</td>\n",
       "      <td>NaN</td>\n",
       "      <td>NaN</td>\n",
       "      <td>NaN</td>\n",
       "    </tr>\n",
       "    <tr>\n",
       "      <td>35</td>\n",
       "      <td>2019</td>\n",
       "      <td>December</td>\n",
       "      <td>NaN</td>\n",
       "      <td>NaN</td>\n",
       "      <td>NaN</td>\n",
       "    </tr>\n",
       "  </tbody>\n",
       "</table>\n",
       "</div>"
      ],
      "text/plain": [
       "    year      month  price3  price4  price5\n",
       "0   2017    January   51.55   65.50  129.67\n",
       "1   2017   February   50.35   66.03  128.15\n",
       "2   2017      March   54.66   70.58  138.63\n",
       "3   2017      April   74.49   88.92  169.53\n",
       "4   2017        May   78.44   96.92  182.69\n",
       "5   2017       June   74.03   90.30  170.80\n",
       "6   2017       July   72.59   85.73  163.68\n",
       "7   2017     August   75.26   86.34  159.05\n",
       "8   2017  September   89.77  109.60  200.97\n",
       "9   2017    October   85.00  108.92  195.91\n",
       "10  2017   November   62.81   83.63  164.98\n",
       "11  2017   December     NaN     NaN     NaN\n",
       "12  2018    January   58.93   72.82  147.69\n",
       "13  2018   February   57.17   71.25  143.27\n",
       "14  2018      March   65.60   83.21  153.34\n",
       "15  2018      April   82.37   95.02  174.53\n",
       "16  2018        May   97.39  110.54  199.30\n",
       "17  2018       June   90.37  104.61  193.39\n",
       "18  2018       July   91.41  101.76  194.98\n",
       "19  2018     August   84.68   92.87  182.09\n",
       "20  2018  September   94.25  110.36  193.95\n",
       "21  2018    October   87.85  102.77  189.10\n",
       "22  2018   November   70.35   88.04  170.06\n",
       "23  2018   December     NaN     NaN     NaN\n",
       "24  2019    January   58.58   75.29  152.19\n",
       "25  2019   February   56.10   72.75  148.78\n",
       "26  2019      March   68.05   89.97  156.12\n",
       "27  2019      April   84.44  100.86  178.87\n",
       "28  2019        May   93.23  112.18  196.77\n",
       "29  2019       June   94.06  118.90  212.56\n",
       "30  2019       July   83.82   96.30  178.18\n",
       "31  2019     August   80.98   95.98  168.26\n",
       "32  2019  September     NaN     NaN     NaN\n",
       "33  2019    October     NaN     NaN     NaN\n",
       "34  2019   November     NaN     NaN     NaN\n",
       "35  2019   December     NaN     NaN     NaN"
      ]
     },
     "execution_count": 185,
     "metadata": {},
     "output_type": "execute_result"
    }
   ],
   "source": [
    "hotel_sh"
   ]
  },
  {
   "cell_type": "markdown",
   "metadata": {},
   "source": [
    "# AirBnb data"
   ]
  },
  {
   "cell_type": "code",
   "execution_count": 186,
   "metadata": {
    "scrolled": true
   },
   "outputs": [
    {
     "data": {
      "text/html": [
       "<div>\n",
       "<style scoped>\n",
       "    .dataframe tbody tr th:only-of-type {\n",
       "        vertical-align: middle;\n",
       "    }\n",
       "\n",
       "    .dataframe tbody tr th {\n",
       "        vertical-align: top;\n",
       "    }\n",
       "\n",
       "    .dataframe thead th {\n",
       "        text-align: right;\n",
       "    }\n",
       "</style>\n",
       "<table border=\"1\" class=\"dataframe\">\n",
       "  <thead>\n",
       "    <tr style=\"text-align: right;\">\n",
       "      <th></th>\n",
       "      <th>Year</th>\n",
       "      <th>Month</th>\n",
       "      <th>Listings</th>\n",
       "      <th>Entire apt</th>\n",
       "      <th>Entire apt average price</th>\n",
       "      <th>Private room</th>\n",
       "      <th>Private room average price</th>\n",
       "      <th>Shared room</th>\n",
       "      <th>Shared room average price</th>\n",
       "    </tr>\n",
       "  </thead>\n",
       "  <tbody>\n",
       "    <tr>\n",
       "      <td>0</td>\n",
       "      <td>2018</td>\n",
       "      <td>4</td>\n",
       "      <td>14241</td>\n",
       "      <td>10720</td>\n",
       "      <td>91.432369</td>\n",
       "      <td>3334</td>\n",
       "      <td>50.386923</td>\n",
       "      <td>187</td>\n",
       "      <td>30.363636</td>\n",
       "    </tr>\n",
       "    <tr>\n",
       "      <td>1</td>\n",
       "      <td>2019</td>\n",
       "      <td>4</td>\n",
       "      <td>16947</td>\n",
       "      <td>12736</td>\n",
       "      <td>95.797660</td>\n",
       "      <td>3962</td>\n",
       "      <td>65.796567</td>\n",
       "      <td>249</td>\n",
       "      <td>43.755020</td>\n",
       "    </tr>\n",
       "    <tr>\n",
       "      <td>2</td>\n",
       "      <td>2018</td>\n",
       "      <td>8</td>\n",
       "      <td>16337</td>\n",
       "      <td>12088</td>\n",
       "      <td>98.444325</td>\n",
       "      <td>4034</td>\n",
       "      <td>53.942489</td>\n",
       "      <td>215</td>\n",
       "      <td>29.753488</td>\n",
       "    </tr>\n",
       "    <tr>\n",
       "      <td>3</td>\n",
       "      <td>2019</td>\n",
       "      <td>8</td>\n",
       "      <td>18350</td>\n",
       "      <td>13651</td>\n",
       "      <td>98.875907</td>\n",
       "      <td>4434</td>\n",
       "      <td>72.337618</td>\n",
       "      <td>263</td>\n",
       "      <td>48.730038</td>\n",
       "    </tr>\n",
       "    <tr>\n",
       "      <td>4</td>\n",
       "      <td>2018</td>\n",
       "      <td>12</td>\n",
       "      <td>16577</td>\n",
       "      <td>12423</td>\n",
       "      <td>96.573855</td>\n",
       "      <td>3936</td>\n",
       "      <td>64.695884</td>\n",
       "      <td>218</td>\n",
       "      <td>47.334862</td>\n",
       "    </tr>\n",
       "    <tr>\n",
       "      <td>5</td>\n",
       "      <td>2018</td>\n",
       "      <td>7</td>\n",
       "      <td>16141</td>\n",
       "      <td>11815</td>\n",
       "      <td>95.040034</td>\n",
       "      <td>4120</td>\n",
       "      <td>52.034709</td>\n",
       "      <td>206</td>\n",
       "      <td>30.563107</td>\n",
       "    </tr>\n",
       "    <tr>\n",
       "      <td>6</td>\n",
       "      <td>2019</td>\n",
       "      <td>7</td>\n",
       "      <td>18246</td>\n",
       "      <td>13544</td>\n",
       "      <td>98.496308</td>\n",
       "      <td>4466</td>\n",
       "      <td>72.917600</td>\n",
       "      <td>236</td>\n",
       "      <td>51.813559</td>\n",
       "    </tr>\n",
       "    <tr>\n",
       "      <td>7</td>\n",
       "      <td>2019</td>\n",
       "      <td>6</td>\n",
       "      <td>17713</td>\n",
       "      <td>13257</td>\n",
       "      <td>98.264087</td>\n",
       "      <td>4209</td>\n",
       "      <td>71.575196</td>\n",
       "      <td>247</td>\n",
       "      <td>50.906883</td>\n",
       "    </tr>\n",
       "    <tr>\n",
       "      <td>8</td>\n",
       "      <td>2019</td>\n",
       "      <td>3</td>\n",
       "      <td>16886</td>\n",
       "      <td>12740</td>\n",
       "      <td>94.824725</td>\n",
       "      <td>3899</td>\n",
       "      <td>65.011028</td>\n",
       "      <td>247</td>\n",
       "      <td>43.894737</td>\n",
       "    </tr>\n",
       "    <tr>\n",
       "      <td>9</td>\n",
       "      <td>2018</td>\n",
       "      <td>5</td>\n",
       "      <td>14722</td>\n",
       "      <td>11010</td>\n",
       "      <td>92.983560</td>\n",
       "      <td>3513</td>\n",
       "      <td>50.033874</td>\n",
       "      <td>199</td>\n",
       "      <td>29.663317</td>\n",
       "    </tr>\n",
       "    <tr>\n",
       "      <td>10</td>\n",
       "      <td>2019</td>\n",
       "      <td>5</td>\n",
       "      <td>17249</td>\n",
       "      <td>13001</td>\n",
       "      <td>96.908853</td>\n",
       "      <td>3994</td>\n",
       "      <td>72.062594</td>\n",
       "      <td>254</td>\n",
       "      <td>51.645669</td>\n",
       "    </tr>\n",
       "    <tr>\n",
       "      <td>11</td>\n",
       "      <td>2018</td>\n",
       "      <td>11</td>\n",
       "      <td>16230</td>\n",
       "      <td>12142</td>\n",
       "      <td>97.049086</td>\n",
       "      <td>3866</td>\n",
       "      <td>63.317124</td>\n",
       "      <td>222</td>\n",
       "      <td>46.833333</td>\n",
       "    </tr>\n",
       "    <tr>\n",
       "      <td>12</td>\n",
       "      <td>2019</td>\n",
       "      <td>11</td>\n",
       "      <td>18227</td>\n",
       "      <td>13472</td>\n",
       "      <td>103.825787</td>\n",
       "      <td>4037</td>\n",
       "      <td>55.285360</td>\n",
       "      <td>244</td>\n",
       "      <td>25.405738</td>\n",
       "    </tr>\n",
       "    <tr>\n",
       "      <td>13</td>\n",
       "      <td>2018</td>\n",
       "      <td>10</td>\n",
       "      <td>15964</td>\n",
       "      <td>11921</td>\n",
       "      <td>96.574448</td>\n",
       "      <td>3826</td>\n",
       "      <td>59.404339</td>\n",
       "      <td>217</td>\n",
       "      <td>48.345622</td>\n",
       "    </tr>\n",
       "    <tr>\n",
       "      <td>14</td>\n",
       "      <td>2019</td>\n",
       "      <td>10</td>\n",
       "      <td>18232</td>\n",
       "      <td>13464</td>\n",
       "      <td>99.971331</td>\n",
       "      <td>4060</td>\n",
       "      <td>54.873399</td>\n",
       "      <td>226</td>\n",
       "      <td>24.721239</td>\n",
       "    </tr>\n",
       "    <tr>\n",
       "      <td>15</td>\n",
       "      <td>2018</td>\n",
       "      <td>9</td>\n",
       "      <td>16080</td>\n",
       "      <td>11979</td>\n",
       "      <td>96.373153</td>\n",
       "      <td>3887</td>\n",
       "      <td>58.394134</td>\n",
       "      <td>214</td>\n",
       "      <td>48.579439</td>\n",
       "    </tr>\n",
       "    <tr>\n",
       "      <td>16</td>\n",
       "      <td>2019</td>\n",
       "      <td>9</td>\n",
       "      <td>18277</td>\n",
       "      <td>13464</td>\n",
       "      <td>98.514335</td>\n",
       "      <td>4107</td>\n",
       "      <td>54.816411</td>\n",
       "      <td>233</td>\n",
       "      <td>30.510730</td>\n",
       "    </tr>\n",
       "    <tr>\n",
       "      <td>17</td>\n",
       "      <td>2017</td>\n",
       "      <td>4</td>\n",
       "      <td>12499</td>\n",
       "      <td>9298</td>\n",
       "      <td>96.630458</td>\n",
       "      <td>3018</td>\n",
       "      <td>43.553015</td>\n",
       "      <td>183</td>\n",
       "      <td>34.229508</td>\n",
       "    </tr>\n",
       "    <tr>\n",
       "      <td>18</td>\n",
       "      <td>2017</td>\n",
       "      <td>2</td>\n",
       "      <td>11792</td>\n",
       "      <td>8748</td>\n",
       "      <td>91.150663</td>\n",
       "      <td>2880</td>\n",
       "      <td>41.084375</td>\n",
       "      <td>164</td>\n",
       "      <td>32.030488</td>\n",
       "    </tr>\n",
       "    <tr>\n",
       "      <td>19</td>\n",
       "      <td>2017</td>\n",
       "      <td>1</td>\n",
       "      <td>11654</td>\n",
       "      <td>8676</td>\n",
       "      <td>91.167704</td>\n",
       "      <td>2832</td>\n",
       "      <td>41.139477</td>\n",
       "      <td>146</td>\n",
       "      <td>34.746575</td>\n",
       "    </tr>\n",
       "    <tr>\n",
       "      <td>20</td>\n",
       "      <td>2017</td>\n",
       "      <td>7</td>\n",
       "      <td>13578</td>\n",
       "      <td>9950</td>\n",
       "      <td>103.813769</td>\n",
       "      <td>3464</td>\n",
       "      <td>46.504042</td>\n",
       "      <td>164</td>\n",
       "      <td>36.231707</td>\n",
       "    </tr>\n",
       "    <tr>\n",
       "      <td>21</td>\n",
       "      <td>2017</td>\n",
       "      <td>6</td>\n",
       "      <td>13232</td>\n",
       "      <td>9764</td>\n",
       "      <td>101.338181</td>\n",
       "      <td>3297</td>\n",
       "      <td>45.629967</td>\n",
       "      <td>171</td>\n",
       "      <td>34.397661</td>\n",
       "    </tr>\n",
       "    <tr>\n",
       "      <td>22</td>\n",
       "      <td>2017</td>\n",
       "      <td>3</td>\n",
       "      <td>12045</td>\n",
       "      <td>8952</td>\n",
       "      <td>94.794013</td>\n",
       "      <td>2903</td>\n",
       "      <td>42.210127</td>\n",
       "      <td>190</td>\n",
       "      <td>31.000000</td>\n",
       "    </tr>\n",
       "    <tr>\n",
       "      <td>23</td>\n",
       "      <td>2017</td>\n",
       "      <td>5</td>\n",
       "      <td>12797</td>\n",
       "      <td>9475</td>\n",
       "      <td>97.699420</td>\n",
       "      <td>3128</td>\n",
       "      <td>43.574808</td>\n",
       "      <td>194</td>\n",
       "      <td>33.273196</td>\n",
       "    </tr>\n",
       "  </tbody>\n",
       "</table>\n",
       "</div>"
      ],
      "text/plain": [
       "    Year  Month  Listings  Entire apt  Entire apt average price  Private room  \\\n",
       "0   2018      4     14241       10720                 91.432369          3334   \n",
       "1   2019      4     16947       12736                 95.797660          3962   \n",
       "2   2018      8     16337       12088                 98.444325          4034   \n",
       "3   2019      8     18350       13651                 98.875907          4434   \n",
       "4   2018     12     16577       12423                 96.573855          3936   \n",
       "5   2018      7     16141       11815                 95.040034          4120   \n",
       "6   2019      7     18246       13544                 98.496308          4466   \n",
       "7   2019      6     17713       13257                 98.264087          4209   \n",
       "8   2019      3     16886       12740                 94.824725          3899   \n",
       "9   2018      5     14722       11010                 92.983560          3513   \n",
       "10  2019      5     17249       13001                 96.908853          3994   \n",
       "11  2018     11     16230       12142                 97.049086          3866   \n",
       "12  2019     11     18227       13472                103.825787          4037   \n",
       "13  2018     10     15964       11921                 96.574448          3826   \n",
       "14  2019     10     18232       13464                 99.971331          4060   \n",
       "15  2018      9     16080       11979                 96.373153          3887   \n",
       "16  2019      9     18277       13464                 98.514335          4107   \n",
       "17  2017      4     12499        9298                 96.630458          3018   \n",
       "18  2017      2     11792        8748                 91.150663          2880   \n",
       "19  2017      1     11654        8676                 91.167704          2832   \n",
       "20  2017      7     13578        9950                103.813769          3464   \n",
       "21  2017      6     13232        9764                101.338181          3297   \n",
       "22  2017      3     12045        8952                 94.794013          2903   \n",
       "23  2017      5     12797        9475                 97.699420          3128   \n",
       "\n",
       "    Private room average price  Shared room  Shared room average price  \n",
       "0                    50.386923          187                  30.363636  \n",
       "1                    65.796567          249                  43.755020  \n",
       "2                    53.942489          215                  29.753488  \n",
       "3                    72.337618          263                  48.730038  \n",
       "4                    64.695884          218                  47.334862  \n",
       "5                    52.034709          206                  30.563107  \n",
       "6                    72.917600          236                  51.813559  \n",
       "7                    71.575196          247                  50.906883  \n",
       "8                    65.011028          247                  43.894737  \n",
       "9                    50.033874          199                  29.663317  \n",
       "10                   72.062594          254                  51.645669  \n",
       "11                   63.317124          222                  46.833333  \n",
       "12                   55.285360          244                  25.405738  \n",
       "13                   59.404339          217                  48.345622  \n",
       "14                   54.873399          226                  24.721239  \n",
       "15                   58.394134          214                  48.579439  \n",
       "16                   54.816411          233                  30.510730  \n",
       "17                   43.553015          183                  34.229508  \n",
       "18                   41.084375          164                  32.030488  \n",
       "19                   41.139477          146                  34.746575  \n",
       "20                   46.504042          164                  36.231707  \n",
       "21                   45.629967          171                  34.397661  \n",
       "22                   42.210127          190                  31.000000  \n",
       "23                   43.574808          194                  33.273196  "
      ]
     },
     "execution_count": 186,
     "metadata": {},
     "output_type": "execute_result"
    }
   ],
   "source": [
    "lisbon_airbnb"
   ]
  },
  {
   "cell_type": "code",
   "execution_count": 187,
   "metadata": {},
   "outputs": [
    {
     "name": "stderr",
     "output_type": "stream",
     "text": [
      "C:\\Users\\Zaca\\Anaconda3\\lib\\site-packages\\pandas\\core\\ops\\__init__.py:1115: FutureWarning: elementwise comparison failed; returning scalar instead, but in the future will perform elementwise comparison\n",
      "  result = method(y)\n"
     ]
    }
   ],
   "source": [
    "airbnb_summer = lisbon_airbnb[(lisbon_airbnb[\"Month\"]== 'June') | (lisbon_airbnb[\"Month\"]== 'July') | (lisbon_airbnb[\"Month\"]== 'August') | (lisbon_airbnb[\"Month\"]== 'September')]\n",
    "airbnb_summer_17 = airbnb_summer[airbnb_summer['Year'] == '2017']\n",
    "airbnb_summer_18 = airbnb_summer[airbnb_summer['Year'] == '2018']\n",
    "airbnb_summer_19 = airbnb_summer[airbnb_summer['Year'] == '2019']"
   ]
  },
  {
   "cell_type": "code",
   "execution_count": 188,
   "metadata": {},
   "outputs": [],
   "source": [
    "airbnb_winter = lisbon_airbnb[(lisbon_airbnb[\"Month\"]== 'November') | (lisbon_airbnb[\"Month\"]== 'December') | (lisbon_airbnb[\"Month\"]== 'January') | (lisbon_airbnb[\"Month\"]== 'February')]\n",
    "airbnb_winter_17 = airbnb_winter[airbnb_winter['Year'] == '2017']\n",
    "airbnb_winter_18 = airbnb_winter[airbnb_winter['Year'] == '2018']\n",
    "airbnb_winter_19 = airbnb_winter[airbnb_winter['Year'] == '2019']"
   ]
  },
  {
   "cell_type": "code",
   "execution_count": 189,
   "metadata": {
    "scrolled": true
   },
   "outputs": [
    {
     "name": "stdout",
     "output_type": "stream",
     "text": [
      "Average listing numbers for summer: \n",
      "2019: nan \n",
      "2018: nan \n",
      "2017: nan\n"
     ]
    }
   ],
   "source": [
    "# average listing numbers SUMMER\n",
    "avg_sum_19 = airbnb_summer_19['Listings'].mean()\n",
    "avg_sum_18 = airbnb_summer_18['Listings'].mean()\n",
    "avg_sum_17 = airbnb_summer_17['Listings'].mean()\n",
    "\n",
    "print(\"Average listing numbers for summer: \\n\" + \"2019: \" + str(avg_sum_19), \"\\n2018: \" + str(avg_sum_18), \"\\n2017: \" + str(avg_sum_17))"
   ]
  },
  {
   "cell_type": "code",
   "execution_count": 190,
   "metadata": {
    "scrolled": true
   },
   "outputs": [],
   "source": [
    "#dict_listings = {'2017': avg_sum_17, '2018': avg_sum_18, '2019': avg_sum_19}\n",
    "\n",
    "#listings_avg = pd.DataFrame(data = dict_listings) \n",
    "#listings_avg"
   ]
  },
  {
   "cell_type": "code",
   "execution_count": 191,
   "metadata": {},
   "outputs": [
    {
     "name": "stdout",
     "output_type": "stream",
     "text": [
      "Average listing numbers for winter: \n",
      "2019: nan \n",
      "2018: nan \n",
      "2017: nan\n"
     ]
    }
   ],
   "source": [
    "# average listing numbers WINTER\n",
    "avg_win_19 = airbnb_winter_19['Listings'].mean()\n",
    "avg_win_18 = airbnb_winter_18['Listings'].mean()\n",
    "avg_win_17 = airbnb_winter_17['Listings'].mean()\n",
    "\n",
    "print(\"Average listing numbers for winter: \\n\" + \"2019: \" + str(avg_win_19), \"\\n2018: \" + str(avg_win_18), \"\\n2017: \" + str(avg_win_17))"
   ]
  },
  {
   "cell_type": "code",
   "execution_count": 192,
   "metadata": {},
   "outputs": [
    {
     "name": "stdout",
     "output_type": "stream",
     "text": [
      "Average number of apartments for summer: \n",
      "2019: nan \n",
      "2018: nan \n",
      "2017: nan\n"
     ]
    }
   ],
   "source": [
    "# average apt summer\n",
    "avg_apt_sum_19 = airbnb_summer_19['Entire apt'].mean()\n",
    "avg_apt_sum_18 = airbnb_summer_18['Entire apt'].mean()\n",
    "avg_apt_sum_17 = airbnb_summer_17['Entire apt'].mean()\n",
    "\n",
    "print(\"Average number of apartments for summer: \\n2019: \" + str(avg_apt_sum_19), \"\\n2018: \" + str(avg_apt_sum_18), \"\\n2017: \" + str(avg_apt_sum_17))"
   ]
  },
  {
   "cell_type": "code",
   "execution_count": 193,
   "metadata": {},
   "outputs": [
    {
     "name": "stdout",
     "output_type": "stream",
     "text": [
      "Average number of apartments for winter: \n",
      "2019: nan \n",
      "2018: nan \n",
      "2017: nan\n"
     ]
    }
   ],
   "source": [
    "# average apt winter\n",
    "avg_apt_win_19 = airbnb_winter_19['Entire apt'].mean()\n",
    "avg_apt_win_18 = airbnb_winter_18['Entire apt'].mean()\n",
    "avg_apt_win_17 = airbnb_winter_17['Entire apt'].mean()\n",
    "\n",
    "print(\"Average number of apartments for winter: \\n2019: \" + str(avg_apt_win_19), \"\\n2018: \" + str(avg_apt_win_18), \"\\n2017: \" + str(avg_apt_win_17))"
   ]
  },
  {
   "cell_type": "code",
   "execution_count": 194,
   "metadata": {},
   "outputs": [
    {
     "name": "stdout",
     "output_type": "stream",
     "text": [
      "Average number of private rooms for summer: \n",
      "2019: nan \n",
      "2018: nan \n",
      "2017: nan\n"
     ]
    }
   ],
   "source": [
    "# average private room summer\n",
    "avg_proom_sum_19 = airbnb_summer_19['Private room'].mean()\n",
    "avg_proom_sum_18 = airbnb_summer_18['Private room'].mean()\n",
    "avg_proom_sum_17 = airbnb_summer_17['Private room'].mean()\n",
    "\n",
    "print(\"Average number of private rooms for summer: \\n2019: \" + str(avg_proom_sum_19), \"\\n2018: \" + str(avg_proom_sum_18), \"\\n2017: \" + str(avg_proom_sum_17))"
   ]
  },
  {
   "cell_type": "code",
   "execution_count": 195,
   "metadata": {},
   "outputs": [
    {
     "name": "stdout",
     "output_type": "stream",
     "text": [
      "Average number of private rooms for winter: \n",
      "2019: nan \n",
      "2018: nan \n",
      "2017: nan\n"
     ]
    }
   ],
   "source": [
    "# average private room winter\n",
    "avg_proom_win_19 = airbnb_winter_19['Private room'].mean()\n",
    "avg_proom_win_18 = airbnb_winter_18['Private room'].mean()\n",
    "avg_proom_win_17 = airbnb_winter_17['Private room'].mean()\n",
    "\n",
    "print(\"Average number of private rooms for winter: \\n2019: \" + str(avg_proom_win_19), \"\\n2018: \" + str(avg_proom_win_18), \"\\n2017: \" + str(avg_proom_win_17))"
   ]
  },
  {
   "cell_type": "code",
   "execution_count": 196,
   "metadata": {},
   "outputs": [
    {
     "name": "stdout",
     "output_type": "stream",
     "text": [
      "Average number of shared rooms for summer: \n",
      "2019: nan \n",
      "2018: nan \n",
      "2017: nan\n"
     ]
    }
   ],
   "source": [
    "# average shared room summer\n",
    "avg_sroom_sum_19 = airbnb_summer_19['Shared room'].mean()\n",
    "avg_sroom_sum_18 = airbnb_summer_18['Shared room'].mean()\n",
    "avg_sroom_sum_17 = airbnb_summer_17['Shared room'].mean()\n",
    "\n",
    "print(\"Average number of shared rooms for summer: \\n2019: \" + str(avg_sroom_sum_19), \"\\n2018: \" + str(avg_sroom_sum_18), \"\\n2017: \" + str(avg_sroom_sum_17))"
   ]
  },
  {
   "cell_type": "code",
   "execution_count": 197,
   "metadata": {},
   "outputs": [
    {
     "name": "stdout",
     "output_type": "stream",
     "text": [
      "Average number of shared rooms for winter: \n",
      "2019: nan \n",
      "2018: nan \n",
      "2017: nan\n"
     ]
    }
   ],
   "source": [
    "# average shared room winter\n",
    "avg_sroom_win_19 = airbnb_winter_19['Shared room'].mean()\n",
    "avg_sroom_win_18 = airbnb_winter_18['Shared room'].mean()\n",
    "avg_sroom_win_17 = airbnb_winter_17['Shared room'].mean()\n",
    "\n",
    "print(\"Average number of shared rooms for winter: \\n2019: \" + str(avg_sroom_win_19), \"\\n2018: \" + str(avg_sroom_win_18), \"\\n2017: \" + str(avg_sroom_win_17))"
   ]
  },
  {
   "cell_type": "code",
   "execution_count": 198,
   "metadata": {},
   "outputs": [
    {
     "name": "stdout",
     "output_type": "stream",
     "text": [
      "Average price of apartments for summer: \n",
      "2019: nan \n",
      "2018: nan \n",
      "2017: nan\n"
     ]
    }
   ],
   "source": [
    "# average price apt summer\n",
    "\n",
    "avg_price_apt_sum_19 = airbnb_summer_19['Entire apt average price'].mean()\n",
    "avg_price_apt_sum_18 = airbnb_summer_18['Entire apt average price'].mean()\n",
    "avg_price_apt_sum_17 = airbnb_summer_17['Entire apt average price'].mean()\n",
    "\n",
    "print(\"Average price of apartments for summer: \\n2019: \" + str(avg_price_apt_sum_19), \"\\n2018: \" + str(avg_price_apt_sum_18), \"\\n2017: \" + str(avg_price_apt_sum_17))"
   ]
  },
  {
   "cell_type": "code",
   "execution_count": 199,
   "metadata": {},
   "outputs": [
    {
     "name": "stdout",
     "output_type": "stream",
     "text": [
      "Average price of apartments for winter: \n",
      "2019: nan \n",
      "2018: nan \n",
      "2017: nan\n"
     ]
    }
   ],
   "source": [
    "# average price apt winter\n",
    "\n",
    "avg_price_apt_win_19 = airbnb_winter_19['Entire apt average price'].mean()\n",
    "avg_price_apt_win_18 = airbnb_winter_18['Entire apt average price'].mean()\n",
    "avg_price_apt_win_17 = airbnb_winter_17['Entire apt average price'].mean()\n",
    "\n",
    "print(\"Average price of apartments for winter: \\n2019: \" + str(avg_price_apt_win_19), \"\\n2018: \" + str(avg_price_apt_win_18), \"\\n2017: \" + str(avg_price_apt_win_17))"
   ]
  },
  {
   "cell_type": "code",
   "execution_count": 200,
   "metadata": {},
   "outputs": [
    {
     "name": "stdout",
     "output_type": "stream",
     "text": [
      "Average price of private rooms for summer: \n",
      "2019: nan \n",
      "2018: nan \n",
      "2017: nan\n"
     ]
    }
   ],
   "source": [
    "# average price private room summer\n",
    "\n",
    "avg_price_proom_sum_19 = airbnb_summer_19['Private room average price'].mean()\n",
    "avg_price_proom_sum_18 = airbnb_summer_18['Private room average price'].mean()\n",
    "avg_price_proom_sum_17 = airbnb_summer_17['Private room average price'].mean()\n",
    "\n",
    "print(\"Average price of private rooms for summer: \\n2019: \" + str(avg_price_proom_sum_19), \"\\n2018: \" + str(avg_price_proom_sum_18), \"\\n2017: \" + str(avg_price_proom_sum_17))"
   ]
  },
  {
   "cell_type": "code",
   "execution_count": 201,
   "metadata": {},
   "outputs": [
    {
     "name": "stdout",
     "output_type": "stream",
     "text": [
      "Average price of private rooms for winter: \n",
      "2019: nan \n",
      "2018: nan \n",
      "2017: nan\n"
     ]
    }
   ],
   "source": [
    "# average price private room winter\n",
    "\n",
    "avg_price_proom_win_19 = airbnb_winter_19['Private room average price'].mean()\n",
    "avg_price_proom_win_18 = airbnb_winter_18['Private room average price'].mean()\n",
    "avg_price_proom_win_17 = airbnb_winter_17['Private room average price'].mean()\n",
    "\n",
    "print(\"Average price of private rooms for winter: \\n2019: \" + str(avg_price_proom_win_19), \"\\n2018: \" + str(avg_price_proom_win_18), \"\\n2017: \" + str(avg_price_proom_win_17))"
   ]
  },
  {
   "cell_type": "code",
   "execution_count": 202,
   "metadata": {},
   "outputs": [
    {
     "name": "stdout",
     "output_type": "stream",
     "text": [
      "Average price of shared rooms for summer: \n",
      "2019: nan \n",
      "2018: nan \n",
      "2017: nan\n"
     ]
    }
   ],
   "source": [
    "# average price shared room summer\n",
    "\n",
    "avg_price_sroom_sum_19 = airbnb_summer_19['Shared room average price'].mean()\n",
    "avg_price_sroom_sum_18 = airbnb_summer_18['Shared room average price'].mean()\n",
    "avg_price_sroom_sum_17 = airbnb_summer_17['Shared room average price'].mean()\n",
    "\n",
    "print(\"Average price of shared rooms for summer: \\n2019: \" + str(avg_price_sroom_sum_19), \"\\n2018: \" + str(avg_price_sroom_sum_18), \"\\n2017: \" + str(avg_price_sroom_sum_17))"
   ]
  },
  {
   "cell_type": "code",
   "execution_count": 203,
   "metadata": {},
   "outputs": [
    {
     "name": "stdout",
     "output_type": "stream",
     "text": [
      "Average price of shared rooms for winter: \n",
      "2019: nan \n",
      "2018: nan \n",
      "2017: nan\n"
     ]
    }
   ],
   "source": [
    "# average price shared room winter\n",
    "\n",
    "avg_price_sroom_win_19 = airbnb_winter_19['Shared room average price'].mean()\n",
    "avg_price_sroom_win_18 = airbnb_winter_18['Shared room average price'].mean()\n",
    "avg_price_sroom_win_17 = airbnb_winter_17['Shared room average price'].mean()\n",
    "\n",
    "print(\"Average price of shared rooms for winter: \\n2019: \" + str(avg_price_sroom_win_19), \"\\n2018: \" + str(avg_price_sroom_win_18), \"\\n2017: \" + str(avg_price_sroom_win_17))"
   ]
  },
  {
   "cell_type": "markdown",
   "metadata": {},
   "source": [
    "# Hotel data"
   ]
  },
  {
   "cell_type": "code",
   "execution_count": 204,
   "metadata": {},
   "outputs": [
    {
     "data": {
      "text/html": [
       "<div>\n",
       "<style scoped>\n",
       "    .dataframe tbody tr th:only-of-type {\n",
       "        vertical-align: middle;\n",
       "    }\n",
       "\n",
       "    .dataframe tbody tr th {\n",
       "        vertical-align: top;\n",
       "    }\n",
       "\n",
       "    .dataframe thead th {\n",
       "        text-align: right;\n",
       "    }\n",
       "</style>\n",
       "<table border=\"1\" class=\"dataframe\">\n",
       "  <thead>\n",
       "    <tr style=\"text-align: right;\">\n",
       "      <th></th>\n",
       "      <th>year</th>\n",
       "      <th>month</th>\n",
       "      <th>price3</th>\n",
       "      <th>price4</th>\n",
       "      <th>price5</th>\n",
       "    </tr>\n",
       "  </thead>\n",
       "  <tbody>\n",
       "    <tr>\n",
       "      <td>0</td>\n",
       "      <td>2017</td>\n",
       "      <td>January</td>\n",
       "      <td>51.55</td>\n",
       "      <td>65.50</td>\n",
       "      <td>129.67</td>\n",
       "    </tr>\n",
       "    <tr>\n",
       "      <td>1</td>\n",
       "      <td>2017</td>\n",
       "      <td>February</td>\n",
       "      <td>50.35</td>\n",
       "      <td>66.03</td>\n",
       "      <td>128.15</td>\n",
       "    </tr>\n",
       "    <tr>\n",
       "      <td>2</td>\n",
       "      <td>2017</td>\n",
       "      <td>March</td>\n",
       "      <td>54.66</td>\n",
       "      <td>70.58</td>\n",
       "      <td>138.63</td>\n",
       "    </tr>\n",
       "    <tr>\n",
       "      <td>3</td>\n",
       "      <td>2017</td>\n",
       "      <td>April</td>\n",
       "      <td>74.49</td>\n",
       "      <td>88.92</td>\n",
       "      <td>169.53</td>\n",
       "    </tr>\n",
       "    <tr>\n",
       "      <td>4</td>\n",
       "      <td>2017</td>\n",
       "      <td>May</td>\n",
       "      <td>78.44</td>\n",
       "      <td>96.92</td>\n",
       "      <td>182.69</td>\n",
       "    </tr>\n",
       "    <tr>\n",
       "      <td>5</td>\n",
       "      <td>2017</td>\n",
       "      <td>June</td>\n",
       "      <td>74.03</td>\n",
       "      <td>90.30</td>\n",
       "      <td>170.80</td>\n",
       "    </tr>\n",
       "    <tr>\n",
       "      <td>6</td>\n",
       "      <td>2017</td>\n",
       "      <td>July</td>\n",
       "      <td>72.59</td>\n",
       "      <td>85.73</td>\n",
       "      <td>163.68</td>\n",
       "    </tr>\n",
       "    <tr>\n",
       "      <td>7</td>\n",
       "      <td>2017</td>\n",
       "      <td>August</td>\n",
       "      <td>75.26</td>\n",
       "      <td>86.34</td>\n",
       "      <td>159.05</td>\n",
       "    </tr>\n",
       "    <tr>\n",
       "      <td>8</td>\n",
       "      <td>2017</td>\n",
       "      <td>September</td>\n",
       "      <td>89.77</td>\n",
       "      <td>109.60</td>\n",
       "      <td>200.97</td>\n",
       "    </tr>\n",
       "    <tr>\n",
       "      <td>9</td>\n",
       "      <td>2017</td>\n",
       "      <td>October</td>\n",
       "      <td>85.00</td>\n",
       "      <td>108.92</td>\n",
       "      <td>195.91</td>\n",
       "    </tr>\n",
       "    <tr>\n",
       "      <td>10</td>\n",
       "      <td>2017</td>\n",
       "      <td>November</td>\n",
       "      <td>62.81</td>\n",
       "      <td>83.63</td>\n",
       "      <td>164.98</td>\n",
       "    </tr>\n",
       "    <tr>\n",
       "      <td>11</td>\n",
       "      <td>2017</td>\n",
       "      <td>December</td>\n",
       "      <td>NaN</td>\n",
       "      <td>NaN</td>\n",
       "      <td>NaN</td>\n",
       "    </tr>\n",
       "    <tr>\n",
       "      <td>12</td>\n",
       "      <td>2018</td>\n",
       "      <td>January</td>\n",
       "      <td>58.93</td>\n",
       "      <td>72.82</td>\n",
       "      <td>147.69</td>\n",
       "    </tr>\n",
       "    <tr>\n",
       "      <td>13</td>\n",
       "      <td>2018</td>\n",
       "      <td>February</td>\n",
       "      <td>57.17</td>\n",
       "      <td>71.25</td>\n",
       "      <td>143.27</td>\n",
       "    </tr>\n",
       "    <tr>\n",
       "      <td>14</td>\n",
       "      <td>2018</td>\n",
       "      <td>March</td>\n",
       "      <td>65.60</td>\n",
       "      <td>83.21</td>\n",
       "      <td>153.34</td>\n",
       "    </tr>\n",
       "    <tr>\n",
       "      <td>15</td>\n",
       "      <td>2018</td>\n",
       "      <td>April</td>\n",
       "      <td>82.37</td>\n",
       "      <td>95.02</td>\n",
       "      <td>174.53</td>\n",
       "    </tr>\n",
       "    <tr>\n",
       "      <td>16</td>\n",
       "      <td>2018</td>\n",
       "      <td>May</td>\n",
       "      <td>97.39</td>\n",
       "      <td>110.54</td>\n",
       "      <td>199.30</td>\n",
       "    </tr>\n",
       "    <tr>\n",
       "      <td>17</td>\n",
       "      <td>2018</td>\n",
       "      <td>June</td>\n",
       "      <td>90.37</td>\n",
       "      <td>104.61</td>\n",
       "      <td>193.39</td>\n",
       "    </tr>\n",
       "    <tr>\n",
       "      <td>18</td>\n",
       "      <td>2018</td>\n",
       "      <td>July</td>\n",
       "      <td>91.41</td>\n",
       "      <td>101.76</td>\n",
       "      <td>194.98</td>\n",
       "    </tr>\n",
       "    <tr>\n",
       "      <td>19</td>\n",
       "      <td>2018</td>\n",
       "      <td>August</td>\n",
       "      <td>84.68</td>\n",
       "      <td>92.87</td>\n",
       "      <td>182.09</td>\n",
       "    </tr>\n",
       "    <tr>\n",
       "      <td>20</td>\n",
       "      <td>2018</td>\n",
       "      <td>September</td>\n",
       "      <td>94.25</td>\n",
       "      <td>110.36</td>\n",
       "      <td>193.95</td>\n",
       "    </tr>\n",
       "    <tr>\n",
       "      <td>21</td>\n",
       "      <td>2018</td>\n",
       "      <td>October</td>\n",
       "      <td>87.85</td>\n",
       "      <td>102.77</td>\n",
       "      <td>189.10</td>\n",
       "    </tr>\n",
       "    <tr>\n",
       "      <td>22</td>\n",
       "      <td>2018</td>\n",
       "      <td>November</td>\n",
       "      <td>70.35</td>\n",
       "      <td>88.04</td>\n",
       "      <td>170.06</td>\n",
       "    </tr>\n",
       "    <tr>\n",
       "      <td>23</td>\n",
       "      <td>2018</td>\n",
       "      <td>December</td>\n",
       "      <td>NaN</td>\n",
       "      <td>NaN</td>\n",
       "      <td>NaN</td>\n",
       "    </tr>\n",
       "    <tr>\n",
       "      <td>24</td>\n",
       "      <td>2019</td>\n",
       "      <td>January</td>\n",
       "      <td>58.58</td>\n",
       "      <td>75.29</td>\n",
       "      <td>152.19</td>\n",
       "    </tr>\n",
       "    <tr>\n",
       "      <td>25</td>\n",
       "      <td>2019</td>\n",
       "      <td>February</td>\n",
       "      <td>56.10</td>\n",
       "      <td>72.75</td>\n",
       "      <td>148.78</td>\n",
       "    </tr>\n",
       "    <tr>\n",
       "      <td>26</td>\n",
       "      <td>2019</td>\n",
       "      <td>March</td>\n",
       "      <td>68.05</td>\n",
       "      <td>89.97</td>\n",
       "      <td>156.12</td>\n",
       "    </tr>\n",
       "    <tr>\n",
       "      <td>27</td>\n",
       "      <td>2019</td>\n",
       "      <td>April</td>\n",
       "      <td>84.44</td>\n",
       "      <td>100.86</td>\n",
       "      <td>178.87</td>\n",
       "    </tr>\n",
       "    <tr>\n",
       "      <td>28</td>\n",
       "      <td>2019</td>\n",
       "      <td>May</td>\n",
       "      <td>93.23</td>\n",
       "      <td>112.18</td>\n",
       "      <td>196.77</td>\n",
       "    </tr>\n",
       "    <tr>\n",
       "      <td>29</td>\n",
       "      <td>2019</td>\n",
       "      <td>June</td>\n",
       "      <td>94.06</td>\n",
       "      <td>118.90</td>\n",
       "      <td>212.56</td>\n",
       "    </tr>\n",
       "    <tr>\n",
       "      <td>30</td>\n",
       "      <td>2019</td>\n",
       "      <td>July</td>\n",
       "      <td>83.82</td>\n",
       "      <td>96.30</td>\n",
       "      <td>178.18</td>\n",
       "    </tr>\n",
       "    <tr>\n",
       "      <td>31</td>\n",
       "      <td>2019</td>\n",
       "      <td>August</td>\n",
       "      <td>80.98</td>\n",
       "      <td>95.98</td>\n",
       "      <td>168.26</td>\n",
       "    </tr>\n",
       "    <tr>\n",
       "      <td>32</td>\n",
       "      <td>2019</td>\n",
       "      <td>September</td>\n",
       "      <td>NaN</td>\n",
       "      <td>NaN</td>\n",
       "      <td>NaN</td>\n",
       "    </tr>\n",
       "    <tr>\n",
       "      <td>33</td>\n",
       "      <td>2019</td>\n",
       "      <td>October</td>\n",
       "      <td>NaN</td>\n",
       "      <td>NaN</td>\n",
       "      <td>NaN</td>\n",
       "    </tr>\n",
       "    <tr>\n",
       "      <td>34</td>\n",
       "      <td>2019</td>\n",
       "      <td>November</td>\n",
       "      <td>NaN</td>\n",
       "      <td>NaN</td>\n",
       "      <td>NaN</td>\n",
       "    </tr>\n",
       "    <tr>\n",
       "      <td>35</td>\n",
       "      <td>2019</td>\n",
       "      <td>December</td>\n",
       "      <td>NaN</td>\n",
       "      <td>NaN</td>\n",
       "      <td>NaN</td>\n",
       "    </tr>\n",
       "  </tbody>\n",
       "</table>\n",
       "</div>"
      ],
      "text/plain": [
       "    year      month  price3  price4  price5\n",
       "0   2017    January   51.55   65.50  129.67\n",
       "1   2017   February   50.35   66.03  128.15\n",
       "2   2017      March   54.66   70.58  138.63\n",
       "3   2017      April   74.49   88.92  169.53\n",
       "4   2017        May   78.44   96.92  182.69\n",
       "5   2017       June   74.03   90.30  170.80\n",
       "6   2017       July   72.59   85.73  163.68\n",
       "7   2017     August   75.26   86.34  159.05\n",
       "8   2017  September   89.77  109.60  200.97\n",
       "9   2017    October   85.00  108.92  195.91\n",
       "10  2017   November   62.81   83.63  164.98\n",
       "11  2017   December     NaN     NaN     NaN\n",
       "12  2018    January   58.93   72.82  147.69\n",
       "13  2018   February   57.17   71.25  143.27\n",
       "14  2018      March   65.60   83.21  153.34\n",
       "15  2018      April   82.37   95.02  174.53\n",
       "16  2018        May   97.39  110.54  199.30\n",
       "17  2018       June   90.37  104.61  193.39\n",
       "18  2018       July   91.41  101.76  194.98\n",
       "19  2018     August   84.68   92.87  182.09\n",
       "20  2018  September   94.25  110.36  193.95\n",
       "21  2018    October   87.85  102.77  189.10\n",
       "22  2018   November   70.35   88.04  170.06\n",
       "23  2018   December     NaN     NaN     NaN\n",
       "24  2019    January   58.58   75.29  152.19\n",
       "25  2019   February   56.10   72.75  148.78\n",
       "26  2019      March   68.05   89.97  156.12\n",
       "27  2019      April   84.44  100.86  178.87\n",
       "28  2019        May   93.23  112.18  196.77\n",
       "29  2019       June   94.06  118.90  212.56\n",
       "30  2019       July   83.82   96.30  178.18\n",
       "31  2019     August   80.98   95.98  168.26\n",
       "32  2019  September     NaN     NaN     NaN\n",
       "33  2019    October     NaN     NaN     NaN\n",
       "34  2019   November     NaN     NaN     NaN\n",
       "35  2019   December     NaN     NaN     NaN"
      ]
     },
     "execution_count": 204,
     "metadata": {},
     "output_type": "execute_result"
    }
   ],
   "source": [
    "hotel_sh"
   ]
  },
  {
   "cell_type": "code",
   "execution_count": 205,
   "metadata": {},
   "outputs": [],
   "source": [
    "hotel_summer = hotel_sh[(hotel_sh[\"month\"]== 'June') | (hotel_sh[\"month\"]== 'July') | (hotel_sh[\"month\"]== 'August') | (hotel_sh[\"month\"]== 'September')]\n",
    "hotel_summer_17 = hotel_summer[hotel_summer['year'] == 2017]\n",
    "hotel_summer_18 = hotel_summer[hotel_summer['year'] == 2018]\n",
    "hotel_summer_19 = hotel_summer[hotel_summer['year'] == 2019]"
   ]
  },
  {
   "cell_type": "code",
   "execution_count": 236,
   "metadata": {},
   "outputs": [
    {
     "name": "stderr",
     "output_type": "stream",
     "text": [
      "C:\\Users\\Zaca\\Anaconda3\\lib\\site-packages\\ipykernel_launcher.py:4: UserWarning: Boolean Series key will be reindexed to match DataFrame index.\n",
      "  after removing the cwd from sys.path.\n",
      "C:\\Users\\Zaca\\Anaconda3\\lib\\site-packages\\ipykernel_launcher.py:5: UserWarning: Boolean Series key will be reindexed to match DataFrame index.\n",
      "  \"\"\"\n",
      "C:\\Users\\Zaca\\Anaconda3\\lib\\site-packages\\ipykernel_launcher.py:6: UserWarning: Boolean Series key will be reindexed to match DataFrame index.\n",
      "  \n"
     ]
    },
    {
     "data": {
      "text/html": [
       "<div>\n",
       "<style scoped>\n",
       "    .dataframe tbody tr th:only-of-type {\n",
       "        vertical-align: middle;\n",
       "    }\n",
       "\n",
       "    .dataframe tbody tr th {\n",
       "        vertical-align: top;\n",
       "    }\n",
       "\n",
       "    .dataframe thead th {\n",
       "        text-align: right;\n",
       "    }\n",
       "</style>\n",
       "<table border=\"1\" class=\"dataframe\">\n",
       "  <thead>\n",
       "    <tr style=\"text-align: right;\">\n",
       "      <th></th>\n",
       "      <th>year</th>\n",
       "      <th>month</th>\n",
       "      <th>price3</th>\n",
       "      <th>price4</th>\n",
       "      <th>price5</th>\n",
       "    </tr>\n",
       "  </thead>\n",
       "  <tbody>\n",
       "    <tr>\n",
       "      <td>34</td>\n",
       "      <td>2019</td>\n",
       "      <td>November</td>\n",
       "      <td>NaN</td>\n",
       "      <td>NaN</td>\n",
       "      <td>NaN</td>\n",
       "    </tr>\n",
       "    <tr>\n",
       "      <td>35</td>\n",
       "      <td>2019</td>\n",
       "      <td>December</td>\n",
       "      <td>NaN</td>\n",
       "      <td>NaN</td>\n",
       "      <td>NaN</td>\n",
       "    </tr>\n",
       "  </tbody>\n",
       "</table>\n",
       "</div>"
      ],
      "text/plain": [
       "    year     month  price3  price4  price5\n",
       "34  2019  November     NaN     NaN     NaN\n",
       "35  2019  December     NaN     NaN     NaN"
      ]
     },
     "execution_count": 236,
     "metadata": {},
     "output_type": "execute_result"
    }
   ],
   "source": [
    "hotel_winter1 = hotel_sh[(hotel_sh[\"month\"]== 'November') | (hotel_sh[\"month\"]== 'December')]\n",
    "hotel_winter2 = hotel_sh[(hotel_sh[\"month\"]== 'January') | (hotel_sh[\"month\"]== 'February')]\n",
    "\n",
    "hotel_winter_17 = pd.concat([hotel_winter1[hotel_winter['year'] == 2017], hotel_winter2[hotel_winter2['year'] == 2018]])\n",
    "hotel_winter_18 = pd.concat([hotel_winter1[hotel_winter['year'] == 2018], hotel_winter2[hotel_winter2['year'] == 2019]])\n",
    "hotel_winter_19 = hotel_winter1[hotel_winter['year'] == 2019]\n",
    "hotel_winter_19"
   ]
  },
  {
   "cell_type": "code",
   "execution_count": 207,
   "metadata": {},
   "outputs": [
    {
     "name": "stdout",
     "output_type": "stream",
     "text": [
      "Average 3 stars hotel prices summer: \n",
      "2017: 77.9125\n",
      "2018: 90.17750000000001\n",
      "2019: 86.28666666666668\n"
     ]
    }
   ],
   "source": [
    "# 3* price summer\n",
    "h3_summer_17 = hotel_summer_17['price3'].mean()\n",
    "h3_summer_18 = hotel_summer_18['price3'].mean()\n",
    "h3_summer_19 = hotel_summer_19['price3'].mean()\n",
    "\n",
    "print(\"Average 3 stars hotel prices summer: \\n2017: \" + str(h3_summer_17) + \"\\n2018: \" + str(h3_summer_18) + \"\\n2019: \" + str(h3_summer_19))"
   ]
  },
  {
   "cell_type": "code",
   "execution_count": 208,
   "metadata": {},
   "outputs": [
    {
     "name": "stdout",
     "output_type": "stream",
     "text": [
      "Average 4 stars hotel prices summer: \n",
      "2017: 92.9925\n",
      "2018: 102.4\n",
      "2019: 103.72666666666667\n"
     ]
    }
   ],
   "source": [
    "# 4* price summer\n",
    "h4_summer_17 = hotel_summer_17['price4'].mean()\n",
    "h4_summer_18 = hotel_summer_18['price4'].mean()\n",
    "h4_summer_19 = hotel_summer_19['price4'].mean()\n",
    "\n",
    "print(\"Average 4 stars hotel prices summer: \\n2017: \" + str(h4_summer_17) + \"\\n2018: \" + str(h4_summer_18) + \"\\n2019: \" + str(h4_summer_19))"
   ]
  },
  {
   "cell_type": "code",
   "execution_count": 209,
   "metadata": {},
   "outputs": [
    {
     "name": "stdout",
     "output_type": "stream",
     "text": [
      "Average 5 stars hotel prices summer: \n",
      "2017: 173.625\n",
      "2018: 191.10250000000002\n",
      "2019: 186.33333333333334\n"
     ]
    }
   ],
   "source": [
    "# 5* price summer\n",
    "h5_summer_17 = hotel_summer_17['price5'].mean()\n",
    "h5_summer_18 = hotel_summer_18['price5'].mean()\n",
    "h5_summer_19 = hotel_summer_19['price5'].mean()\n",
    "\n",
    "print(\"Average 5 stars hotel prices summer: \\n2017: \" + str(h5_summer_17) + \"\\n2018: \" + str(h5_summer_18) + \"\\n2019: \" + str(h5_summer_19))"
   ]
  },
  {
   "cell_type": "code",
   "execution_count": 210,
   "metadata": {},
   "outputs": [
    {
     "name": "stdout",
     "output_type": "stream",
     "text": [
      "Average 3 stars hotel prices winter: \n",
      "2017: 54.903333333333336\n",
      "2018: 62.15\n",
      "2019: 57.34\n"
     ]
    }
   ],
   "source": [
    "# 3* price winter\n",
    "h3_winter_17 = hotel_winter_17['price3'].mean()\n",
    "h3_winter_18 = hotel_winter_18['price3'].mean()\n",
    "h3_winter_19 = hotel_winter_19['price3'].mean()\n",
    "\"\"\n",
    "print(\"Average 3 stars hotel prices winter: \\n2017: \" + str(h3_winter_17) + \"\\n2018: \" + str(h3_winter_18) + \"\\n2019: \" + str(h3_winter_19))"
   ]
  },
  {
   "cell_type": "code",
   "execution_count": 211,
   "metadata": {},
   "outputs": [
    {
     "name": "stdout",
     "output_type": "stream",
     "text": [
      "Average 4 stars hotel prices winter: \n",
      "2017: 71.72\n",
      "2018: 77.37\n",
      "2019: 74.02000000000001\n"
     ]
    }
   ],
   "source": [
    "# 4* price winter\n",
    "h4_winter_17 = hotel_winter_17['price4'].mean()\n",
    "h4_winter_18 = hotel_winter_18['price4'].mean()\n",
    "h4_winter_19 = hotel_winter_19['price4'].mean()\n",
    "\"\"\n",
    "print(\"Average 4 stars hotel prices winter: \\n2017: \" + str(h4_winter_17) + \"\\n2018: \" + str(h4_winter_18) + \"\\n2019: \" + str(h4_winter_19))"
   ]
  },
  {
   "cell_type": "code",
   "execution_count": 212,
   "metadata": {},
   "outputs": [
    {
     "name": "stdout",
     "output_type": "stream",
     "text": [
      "Average 5 stars hotel prices winter: \n",
      "2017: 140.9333333333333\n",
      "2018: 153.67333333333335\n",
      "2019: 150.485\n"
     ]
    }
   ],
   "source": [
    "# 5* price winter\n",
    "h5_winter_17 = hotel_winter_17['price5'].mean()\n",
    "h5_winter_18 = hotel_winter_18['price5'].mean()\n",
    "h5_winter_19 = hotel_winter_19['price5'].mean()\n",
    "\"\"\n",
    "print(\"Average 5 stars hotel prices winter: \\n2017: \" + str(h5_winter_17) + \"\\n2018: \" + str(h5_winter_18) + \"\\n2019: \" + str(h5_winter_19))"
   ]
  },
  {
   "cell_type": "code",
   "execution_count": 213,
   "metadata": {},
   "outputs": [],
   "source": [
    "# compare listings to avg price of hotel\n",
    "avg_sum_19 = airbnb_summer_19['Listings'].mean()\n",
    "avg_sum_18 = airbnb_summer_18['Listings'].mean()\n",
    "avg_sum_17 = airbnb_summer_17['Listings'].mean()\n",
    "\n",
    "avg_win_19 = airbnb_winter_19['Listings'].mean()\n",
    "avg_win_18 = airbnb_winter_18['Listings'].mean()\n",
    "avg_win_17 = airbnb_winter_17['Listings'].mean()"
   ]
  },
  {
   "cell_type": "code",
   "execution_count": 214,
   "metadata": {},
   "outputs": [
    {
     "name": "stdout",
     "output_type": "stream",
     "text": [
      "nan nan\n"
     ]
    }
   ],
   "source": [
    "var_sum_17_18 = ((avg_sum_18 - avg_sum_17) / avg_sum_17) * 100\n",
    "var_sum_18_19 = ((avg_sum_19 - avg_sum_18) / avg_sum_18) * 100\n",
    "\n",
    "print(var_sum_17_18, var_sum_18_19)"
   ]
  },
  {
   "cell_type": "code",
   "execution_count": 215,
   "metadata": {},
   "outputs": [
    {
     "name": "stdout",
     "output_type": "stream",
     "text": [
      "nan nan\n"
     ]
    }
   ],
   "source": [
    "var_winter_17_18 = ((avg_win_18 - avg_win_17) / avg_win_17) * 100\n",
    "var_winter_18_19 = ((avg_win_19 - avg_win_18) / avg_win_18) * 100\n",
    "\n",
    "print(var_winter_17_18, var_winter_18_19)"
   ]
  },
  {
   "cell_type": "code",
   "execution_count": 216,
   "metadata": {},
   "outputs": [
    {
     "name": "stdout",
     "output_type": "stream",
     "text": [
      "114.84333333333332 127.89333333333336 125.4488888888889\n"
     ]
    }
   ],
   "source": [
    "mean_h_sum_17 = (h3_summer_17 + h4_summer_17 + h5_summer_17) / 3\n",
    "mean_h_sum_18 = (h3_summer_18 + h4_summer_18 + h5_summer_18) / 3\n",
    "mean_h_sum_19 = (h3_summer_19 + h4_summer_19 + h5_summer_19) / 3\n",
    "\n",
    "print(mean_h_sum_17, mean_h_sum_18, mean_h_sum_19)"
   ]
  },
  {
   "cell_type": "code",
   "execution_count": 217,
   "metadata": {},
   "outputs": [
    {
     "name": "stdout",
     "output_type": "stream",
     "text": [
      "89.18555555555554 97.73111111111113 93.94833333333334\n"
     ]
    }
   ],
   "source": [
    "mean_h_winter_17 = (h3_winter_17 + h4_winter_17 + h5_winter_17) / 3\n",
    "mean_h_winter_18 = (h3_winter_18 + h4_winter_18 + h5_winter_18) / 3\n",
    "mean_h_winter_19 = (h3_winter_19 + h4_winter_19 + h5_winter_19) / 3\n",
    "\n",
    "print(mean_h_winter_17, mean_h_winter_18, mean_h_winter_19)"
   ]
  },
  {
   "cell_type": "code",
   "execution_count": 218,
   "metadata": {},
   "outputs": [
    {
     "name": "stdout",
     "output_type": "stream",
     "text": [
      "9.58177083982214 -3.8705973305441406\n"
     ]
    }
   ],
   "source": [
    "# variation with mean winter\n",
    "h_var_win_17_18 = ((mean_h_winter_18 - mean_h_winter_17) / mean_h_winter_17) * 100\n",
    "h_var_win_18_19 = ((mean_h_winter_19 - mean_h_winter_18) / mean_h_winter_18) * 100\n",
    "\n",
    "print(h_var_win_17_18, h_var_win_18_19)"
   ]
  },
  {
   "cell_type": "code",
   "execution_count": 219,
   "metadata": {},
   "outputs": [
    {
     "name": "stdout",
     "output_type": "stream",
     "text": [
      "11.363306533538479 -1.9113149847094897\n"
     ]
    }
   ],
   "source": [
    "# variation with mean summer\n",
    "h_var_sum_17_18 = ((mean_h_sum_18 - mean_h_sum_17) / mean_h_sum_17) * 100\n",
    "h_var_sum_18_19 = ((mean_h_sum_19 - mean_h_sum_18) / mean_h_sum_18) * 100\n",
    "\n",
    "print(h_var_sum_17_18, h_var_sum_18_19)"
   ]
  },
  {
   "cell_type": "code",
   "execution_count": 220,
   "metadata": {},
   "outputs": [
    {
     "name": "stdout",
     "output_type": "stream",
     "text": [
      "15.742018289748136 -4.3146387217801925\n"
     ]
    }
   ],
   "source": [
    "# variation in 3* hotel price\n",
    "h3_var_sum_17_18 = ((h3_summer_18 - h3_summer_17) / h3_summer_17) * 100\n",
    "h3_var_sum_18_19 = ((h3_summer_19 - h3_summer_18) / h3_summer_18) * 100\n",
    "\n",
    "print(h3_var_sum_17_18, h3_var_sum_18_19)"
   ]
  },
  {
   "cell_type": "code",
   "execution_count": 221,
   "metadata": {},
   "outputs": [
    {
     "name": "stdout",
     "output_type": "stream",
     "text": [
      "10.116407237142779 1.2955729166666679\n"
     ]
    }
   ],
   "source": [
    "# variation in 4* hotel price\n",
    "h4_var_sum_17_18 = ((h4_summer_18 - h4_summer_17) / h4_summer_17) * 100\n",
    "h4_var_sum_18_19 = ((h4_summer_19 - h4_summer_18) / h4_summer_18) * 100\n",
    "\n",
    "print(h4_var_sum_17_18, h4_var_sum_18_19)"
   ]
  },
  {
   "cell_type": "code",
   "execution_count": 222,
   "metadata": {},
   "outputs": [
    {
     "name": "stdout",
     "output_type": "stream",
     "text": [
      "10.066234701223914 -2.4956066334384306\n"
     ]
    }
   ],
   "source": [
    "# variation in 5* hotel price\n",
    "h5_var_sum_17_18 = ((h5_summer_18 - h5_summer_17) / h5_summer_17) * 100\n",
    "h5_var_sum_18_19 = ((h5_summer_19 - h5_summer_18) / h5_summer_18) * 100\n",
    "\n",
    "print(h5_var_sum_17_18, h5_var_sum_18_19)"
   ]
  },
  {
   "cell_type": "code",
   "execution_count": 223,
   "metadata": {},
   "outputs": [
    {
     "name": "stdout",
     "output_type": "stream",
     "text": [
      "13.198955740392195 -7.73934030571198\n"
     ]
    }
   ],
   "source": [
    "# variation in 3* hotel price\n",
    "h3_var_win_17_18 = ((h3_winter_18 - h3_winter_17) / h3_winter_17) * 100\n",
    "h3_var_win_18_19 = ((h3_winter_19 - h3_winter_18) / h3_winter_18) * 100\n",
    "\n",
    "print(h3_var_win_17_18, h3_var_win_18_19)"
   ]
  },
  {
   "cell_type": "code",
   "execution_count": 224,
   "metadata": {},
   "outputs": [
    {
     "name": "stdout",
     "output_type": "stream",
     "text": [
      "7.877858337981046 -4.32984360863383\n"
     ]
    }
   ],
   "source": [
    "# variation in 4* hotel price\n",
    "h4_var_win_17_18 = ((h4_winter_18 - h4_winter_17) / h4_winter_17) * 100\n",
    "h4_var_win_18_19 = ((h4_winter_19 - h4_winter_18) / h4_winter_18) * 100\n",
    "\n",
    "print(h4_var_win_17_18, h4_var_win_18_19)"
   ]
  },
  {
   "cell_type": "code",
   "execution_count": 225,
   "metadata": {},
   "outputs": [
    {
     "name": "stdout",
     "output_type": "stream",
     "text": [
      "9.039735099337777 -2.0747472994664\n"
     ]
    }
   ],
   "source": [
    "# variation in 5* hotel price\n",
    "h5_var_win_17_18 = ((h5_winter_18 - h5_winter_17) / h5_winter_17) * 100\n",
    "h5_var_win_18_19 = ((h5_winter_19 - h5_winter_18) / h5_winter_18) * 100\n",
    "\n",
    "print(h5_var_win_17_18, h5_var_win_18_19)"
   ]
  },
  {
   "cell_type": "code",
   "execution_count": 228,
   "metadata": {},
   "outputs": [],
   "source": [
    "challenge = pd.DataFrame(index= [k for k in month_name_dict], columns= ['Hotel 2017', 'Airbnb 2017', 'Hotel 2018', 'Airbnb 2018', 'Hotel 2019', 'Airbnb 2019'])\n"
   ]
  },
  {
   "cell_type": "code",
   "execution_count": 229,
   "metadata": {},
   "outputs": [
    {
     "data": {
      "text/html": [
       "<div>\n",
       "<style scoped>\n",
       "    .dataframe tbody tr th:only-of-type {\n",
       "        vertical-align: middle;\n",
       "    }\n",
       "\n",
       "    .dataframe tbody tr th {\n",
       "        vertical-align: top;\n",
       "    }\n",
       "\n",
       "    .dataframe thead th {\n",
       "        text-align: right;\n",
       "    }\n",
       "</style>\n",
       "<table border=\"1\" class=\"dataframe\">\n",
       "  <thead>\n",
       "    <tr style=\"text-align: right;\">\n",
       "      <th></th>\n",
       "      <th>Hotel 2017</th>\n",
       "      <th>Airbnb 2017</th>\n",
       "      <th>Hotel 2018</th>\n",
       "      <th>Airbnb 2018</th>\n",
       "      <th>Hotel 2019</th>\n",
       "      <th>Airbnb 2019</th>\n",
       "    </tr>\n",
       "  </thead>\n",
       "  <tbody>\n",
       "    <tr>\n",
       "      <td>January</td>\n",
       "      <td>NaN</td>\n",
       "      <td>NaN</td>\n",
       "      <td>NaN</td>\n",
       "      <td>NaN</td>\n",
       "      <td>NaN</td>\n",
       "      <td>NaN</td>\n",
       "    </tr>\n",
       "    <tr>\n",
       "      <td>February</td>\n",
       "      <td>NaN</td>\n",
       "      <td>NaN</td>\n",
       "      <td>NaN</td>\n",
       "      <td>NaN</td>\n",
       "      <td>NaN</td>\n",
       "      <td>NaN</td>\n",
       "    </tr>\n",
       "    <tr>\n",
       "      <td>March</td>\n",
       "      <td>NaN</td>\n",
       "      <td>NaN</td>\n",
       "      <td>NaN</td>\n",
       "      <td>NaN</td>\n",
       "      <td>NaN</td>\n",
       "      <td>NaN</td>\n",
       "    </tr>\n",
       "    <tr>\n",
       "      <td>April</td>\n",
       "      <td>NaN</td>\n",
       "      <td>NaN</td>\n",
       "      <td>NaN</td>\n",
       "      <td>NaN</td>\n",
       "      <td>NaN</td>\n",
       "      <td>NaN</td>\n",
       "    </tr>\n",
       "    <tr>\n",
       "      <td>May</td>\n",
       "      <td>NaN</td>\n",
       "      <td>NaN</td>\n",
       "      <td>NaN</td>\n",
       "      <td>NaN</td>\n",
       "      <td>NaN</td>\n",
       "      <td>NaN</td>\n",
       "    </tr>\n",
       "    <tr>\n",
       "      <td>June</td>\n",
       "      <td>NaN</td>\n",
       "      <td>NaN</td>\n",
       "      <td>NaN</td>\n",
       "      <td>NaN</td>\n",
       "      <td>NaN</td>\n",
       "      <td>NaN</td>\n",
       "    </tr>\n",
       "    <tr>\n",
       "      <td>July</td>\n",
       "      <td>NaN</td>\n",
       "      <td>NaN</td>\n",
       "      <td>NaN</td>\n",
       "      <td>NaN</td>\n",
       "      <td>NaN</td>\n",
       "      <td>NaN</td>\n",
       "    </tr>\n",
       "    <tr>\n",
       "      <td>August</td>\n",
       "      <td>NaN</td>\n",
       "      <td>NaN</td>\n",
       "      <td>NaN</td>\n",
       "      <td>NaN</td>\n",
       "      <td>NaN</td>\n",
       "      <td>NaN</td>\n",
       "    </tr>\n",
       "    <tr>\n",
       "      <td>September</td>\n",
       "      <td>NaN</td>\n",
       "      <td>NaN</td>\n",
       "      <td>NaN</td>\n",
       "      <td>NaN</td>\n",
       "      <td>NaN</td>\n",
       "      <td>NaN</td>\n",
       "    </tr>\n",
       "    <tr>\n",
       "      <td>October</td>\n",
       "      <td>NaN</td>\n",
       "      <td>NaN</td>\n",
       "      <td>NaN</td>\n",
       "      <td>NaN</td>\n",
       "      <td>NaN</td>\n",
       "      <td>NaN</td>\n",
       "    </tr>\n",
       "    <tr>\n",
       "      <td>November</td>\n",
       "      <td>NaN</td>\n",
       "      <td>NaN</td>\n",
       "      <td>NaN</td>\n",
       "      <td>NaN</td>\n",
       "      <td>NaN</td>\n",
       "      <td>NaN</td>\n",
       "    </tr>\n",
       "    <tr>\n",
       "      <td>December</td>\n",
       "      <td>NaN</td>\n",
       "      <td>NaN</td>\n",
       "      <td>NaN</td>\n",
       "      <td>NaN</td>\n",
       "      <td>NaN</td>\n",
       "      <td>NaN</td>\n",
       "    </tr>\n",
       "  </tbody>\n",
       "</table>\n",
       "</div>"
      ],
      "text/plain": [
       "          Hotel 2017 Airbnb 2017 Hotel 2018 Airbnb 2018 Hotel 2019 Airbnb 2019\n",
       "January          NaN         NaN        NaN         NaN        NaN         NaN\n",
       "February         NaN         NaN        NaN         NaN        NaN         NaN\n",
       "March            NaN         NaN        NaN         NaN        NaN         NaN\n",
       "April            NaN         NaN        NaN         NaN        NaN         NaN\n",
       "May              NaN         NaN        NaN         NaN        NaN         NaN\n",
       "June             NaN         NaN        NaN         NaN        NaN         NaN\n",
       "July             NaN         NaN        NaN         NaN        NaN         NaN\n",
       "August           NaN         NaN        NaN         NaN        NaN         NaN\n",
       "September        NaN         NaN        NaN         NaN        NaN         NaN\n",
       "October          NaN         NaN        NaN         NaN        NaN         NaN\n",
       "November         NaN         NaN        NaN         NaN        NaN         NaN\n",
       "December         NaN         NaN        NaN         NaN        NaN         NaN"
      ]
     },
     "execution_count": 229,
     "metadata": {},
     "output_type": "execute_result"
    }
   ],
   "source": [
    "challenge"
   ]
  },
  {
   "cell_type": "code",
   "execution_count": null,
   "metadata": {},
   "outputs": [],
   "source": []
  }
 ],
 "metadata": {
  "kernelspec": {
   "display_name": "Python 3",
   "language": "python",
   "name": "python3"
  },
  "language_info": {
   "codemirror_mode": {
    "name": "ipython",
    "version": 3
   },
   "file_extension": ".py",
   "mimetype": "text/x-python",
   "name": "python",
   "nbconvert_exporter": "python",
   "pygments_lexer": "ipython3",
   "version": "3.7.4"
  }
 },
 "nbformat": 4,
 "nbformat_minor": 2
}
