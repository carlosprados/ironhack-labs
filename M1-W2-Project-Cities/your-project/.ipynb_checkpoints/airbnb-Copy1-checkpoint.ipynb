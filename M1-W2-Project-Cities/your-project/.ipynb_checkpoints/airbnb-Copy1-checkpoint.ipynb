{
 "cells": [
  {
   "cell_type": "code",
   "execution_count": 10,
   "metadata": {},
   "outputs": [],
   "source": [
    "import pandas as pd\n",
    "import glob"
   ]
  },
  {
   "cell_type": "code",
   "execution_count": 29,
   "metadata": {},
   "outputs": [
    {
     "data": {
      "text/plain": [
       "['airbnb_data/used\\\\airbnb_august18.csv',\n",
       " 'airbnb_data/used\\\\airbnb_august19.csv',\n",
       " 'airbnb_data/used\\\\airbnb_december18.csv',\n",
       " 'airbnb_data/used\\\\airbnb_february19.csv',\n",
       " 'airbnb_data/used\\\\airbnb_january19.csv',\n",
       " 'airbnb_data/used\\\\airbnb_july19.csv',\n",
       " 'airbnb_data/used\\\\airbnb_june19.csv',\n",
       " 'airbnb_data/used\\\\airbnb_march19.csv',\n",
       " 'airbnb_data/used\\\\airbnb_may19.csv',\n",
       " 'airbnb_data/used\\\\airbnb_november18.csv',\n",
       " 'airbnb_data/used\\\\airbnb_october18.csv',\n",
       " 'airbnb_data/used\\\\airbnb_september18.csv']"
      ]
     },
     "execution_count": 29,
     "metadata": {},
     "output_type": "execute_result"
    }
   ],
   "source": [
    "# get data file names\n",
    "path ='airbnb_data/used/'\n",
    "filenames = glob.glob(path + \"*.csv\")\n",
    "data = pd.concat([pd.read_csv(file) for file in filenames])\n",
    "data.columns\n",
    "filenames"
   ]
  },
  {
   "cell_type": "code",
   "execution_count": 28,
   "metadata": {},
   "outputs": [
    {
     "name": "stdout",
     "output_type": "stream",
     "text": [
      "33006\n"
     ]
    },
    {
     "data": {
      "text/plain": [
       "(202910, 16)"
      ]
     },
     "execution_count": 28,
     "metadata": {},
     "output_type": "execute_result"
    }
   ],
   "source": [
    "data['id'].unique()\n",
    "print(len(data['id'].unique()))\n",
    "\n",
    "only_lisbon = data[data['neighbourhood_group'] == 'Lisboa']\n",
    "only_lisbon.shape"
   ]
  },
  {
   "cell_type": "code",
   "execution_count": null,
   "metadata": {},
   "outputs": [],
   "source": []
  }
 ],
 "metadata": {
  "kernelspec": {
   "display_name": "Python 3",
   "language": "python",
   "name": "python3"
  },
  "language_info": {
   "codemirror_mode": {
    "name": "ipython",
    "version": 3
   },
   "file_extension": ".py",
   "mimetype": "text/x-python",
   "name": "python",
   "nbconvert_exporter": "python",
   "pygments_lexer": "ipython3",
   "version": "3.7.4"
  }
 },
 "nbformat": 4,
 "nbformat_minor": 2
}
