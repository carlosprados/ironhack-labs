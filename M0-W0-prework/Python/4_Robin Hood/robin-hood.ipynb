{
 "cells": [
  {
   "cell_type": "markdown",
   "metadata": {},
   "source": [
    "<img src=\"https://bit.ly/2VnXWr2\" width=\"100\" align=\"left\"/>"
   ]
  },
  {
   "cell_type": "markdown",
   "metadata": {},
   "source": [
    "# Robin Hood\n",
    "Robin Hood has entered a competition to win the archery contest in Sherwood. With his bow and arrows, he needs to shoot on a target and try to hit as close as possible to the center.\n",
    "\n",
    "![](images/arrows.jpg)\n",
    "\n",
    "## Context\n",
    "In this challenge, the landing position of arrows shot by archers in the competition will be represented using 2-dimensional coordinates. \n",
    "\n",
    "In the 2-dimensional space, a point can be defined by a pair of values that correspond to the horizontal coordinate (x) and the vertical coordinate (y). For example, in our case, an arrow that hits the center of the archery target will land in position (0, 0) on the coordinate axes. \n",
    "\n",
    "The space can be divided into 4 zones (quadrants): Q1, Q2, Q3, Q4. If a point is in Q1, both its x coordinate and y coordinate are positive. Any point with a null x or y coordinate is considered to not belong to any quadrant. \n",
    "\n",
    "If you want to know more about the cartesian coordinate system, you can check this [link](https://en.wikipedia.org/wiki/Cartesian_coordinate_system). \n",
    "\n",
    "## Tools\n",
    "You don't necessarily need to use all the tools. Maybe you opt to use some of them or completely different ones, they are given to help you shape the exercise. Programming exercises can be solved in many different ways.\n",
    "* Data structures: **lists, sets, tuples**\n",
    "* Conditional statements: **if-elif-else**\n",
    "* Loop: **while/for**\n",
    "* Minimum (optional sorting)\n",
    "\n",
    "## Tasks\n",
    "Robin Hood has hit the following points:"
   ]
  },
  {
   "cell_type": "code",
   "execution_count": 11,
   "metadata": {},
   "outputs": [],
   "source": [
    "points = [(4, 5), (-0, 2), (4, 7), (1, -3), (3, -2), (4, 5), (3, 2), (5, 7), (-5, 7), (2, 2), (-4, 5), (0, -2),\n",
    "          (-4, 7), (-1, 3), (-3, 2), (-4, -5), (-3, 2), (5, 7), (5, 7), (2, 2), (9, 9), (-8, -9)]"
   ]
  },
  {
   "cell_type": "markdown",
   "metadata": {},
   "source": [
    "#### 1. Robin Hood is famous for hitting an arrow with another arrow. Find the coordinates of the points where an arrow hits another arrow."
   ]
  },
  {
   "cell_type": "code",
   "execution_count": 12,
   "metadata": {},
   "outputs": [
    {
     "name": "stdout",
     "output_type": "stream",
     "text": [
      "The points where an arrow hits another arrow are: {(4, 5), (5, 7), (-3, 2), (2, 2)}\n"
     ]
    }
   ],
   "source": [
    "# finding unique and duplicate points of arrows\n",
    "unique = []\n",
    "duplicates = []\n",
    "\n",
    "# iterate over every point\n",
    "for arrow in points:\n",
    "    # if it has not been seen yet\n",
    "    if arrow not in unique:\n",
    "        unique.append(arrow)\n",
    "    # if it has already been seen\n",
    "    else:\n",
    "        duplicates.append(arrow)\n",
    "\n",
    "print(\"The points where an arrow hits another arrow are: %s\" % set(duplicates))\n"
   ]
  },
  {
   "cell_type": "markdown",
   "metadata": {},
   "source": [
    "#### 2. Calculate how many arrows have fallen in each quadrant. \n",
    "**Note**: the arrows that fall in the axis (x=0 or y=0) don't belong to any quadrant."
   ]
  },
  {
   "cell_type": "code",
   "execution_count": 13,
   "metadata": {},
   "outputs": [
    {
     "name": "stdout",
     "output_type": "stream",
     "text": [
      "Arrows in Q1: 10\n",
      "Arrows in Q2: 6\n",
      "Arrows in Q3: 2\n",
      "Arrows in Q4: 2\n",
      "Arrows in the axes: 2\n"
     ]
    }
   ],
   "source": [
    "# assign variables to each quadrant\n",
    "q1 = []\n",
    "q2 = []\n",
    "q3 = []\n",
    "q4 = []\n",
    "axes = []\n",
    "\n",
    "# iterate over every point\n",
    "for arrow in points:\n",
    "    \n",
    "    # when both are positive it belongs in Q1\n",
    "    if arrow[0] > 0 and arrow[1] > 0:\n",
    "        q1.append(arrow)\n",
    "    \n",
    "    # when X is negative but Y is positive it belongs in Q2\n",
    "    elif arrow[0] < 0 and arrow[1] > 0:\n",
    "        q2.append(arrow)\n",
    "    \n",
    "    # when both are negative it belongs in Q3\n",
    "    elif arrow[0] < 0 and arrow[1] < 0:\n",
    "        q3.append(arrow)\n",
    "    \n",
    "    # when X is positive but Y is negative it belongs in Q4\n",
    "    elif arrow[0] > 0 and arrow[1] < 0:\n",
    "        q4.append(arrow)\n",
    "    \n",
    "    # when none of these conditions are met the arrows fell in the axes (x or y == 0)\n",
    "    else:\n",
    "        axes.append(arrow)\n",
    "        \n",
    "print(\"Arrows in Q1: %d\" % len(q1))\n",
    "print(\"Arrows in Q2: %d\" % len(q2))\n",
    "print(\"Arrows in Q3: %d\" % len(q3))\n",
    "print(\"Arrows in Q4: %d\" % len(q4))\n",
    "print(\"Arrows in the axes: %d\" % len(axes))"
   ]
  },
  {
   "cell_type": "markdown",
   "metadata": {},
   "source": [
    "#### 3. Find the point closest to the center. Calculate its distance to the center. \n",
    "Take into account that there might be more than one point at the minimum distance to the center.\n",
    "\n",
    "**Hint**: Use the Euclidean distance. You can find more information about it [here](https://en.wikipedia.org/wiki/Euclidean_distance).  \n",
    "**Hint**: Defining a function that calculates the distance to the center can help."
   ]
  },
  {
   "cell_type": "code",
   "execution_count": 14,
   "metadata": {},
   "outputs": [
    {
     "name": "stdout",
     "output_type": "stream",
     "text": [
      "The point closest to the center is (0, 2) and its distance is 2.00\n"
     ]
    }
   ],
   "source": [
    "import numpy as np\n",
    "\n",
    "# define a function that calculates euclidean distance\n",
    "def euclidean_distance(a, b):\n",
    "    \n",
    "    # takes as input two xy points (tuples)\n",
    "    # calculates distance between points\n",
    "    \n",
    "    distance = np.sqrt((a[0] - b[0])**2 + (a[1] - b[1])**2)\n",
    "    \n",
    "    return distance\n",
    "\n",
    "# define the origin\n",
    "origin = (0, 0)\n",
    "\n",
    "# apply function to each point and the origin\n",
    "distances = [euclidean_distance(arrow, origin) for arrow in points]\n",
    "\n",
    "# find the index of the minimum distance and get the value of that same index from points.\n",
    "closest = points[distances.index(min(distances))]\n",
    "\n",
    "print(\"The point closest to the center is %s and its distance is %.2f\" % (closest, min(distances)))"
   ]
  },
  {
   "cell_type": "markdown",
   "metadata": {},
   "source": [
    "#### 4. If the archery target has a radius of 9, calculate the number of arrows that won't hit the target. \n",
    "**Hint**: Use the function created in step 3. "
   ]
  },
  {
   "cell_type": "code",
   "execution_count": 15,
   "metadata": {
    "scrolled": true
   },
   "outputs": [
    {
     "name": "stdout",
     "output_type": "stream",
     "text": [
      "Robin Hood misses 2 arrows :(\n"
     ]
    }
   ],
   "source": [
    "# variable to count misses\n",
    "misses = 0\n",
    "\n",
    "# iterate over the distances to the center\n",
    "for arrow in distances:\n",
    "    \n",
    "    # check if distance is larger than the radius\n",
    "    if arrow > 9:\n",
    "        # count as miss\n",
    "        misses += 1\n",
    "    \n",
    "    else:\n",
    "        pass\n",
    "\n",
    "print(\"Robin Hood misses %d arrows :(\" % misses)"
   ]
  },
  {
   "cell_type": "code",
   "execution_count": null,
   "metadata": {},
   "outputs": [],
   "source": []
  }
 ],
 "metadata": {
  "kernelspec": {
   "display_name": "Python 3",
   "language": "python",
   "name": "python3"
  },
  "language_info": {
   "codemirror_mode": {
    "name": "ipython",
    "version": 3
   },
   "file_extension": ".py",
   "mimetype": "text/x-python",
   "name": "python",
   "nbconvert_exporter": "python",
   "pygments_lexer": "ipython3",
   "version": "3.7.4"
  }
 },
 "nbformat": 4,
 "nbformat_minor": 2
}
