{
 "cells": [
  {
   "cell_type": "markdown",
   "metadata": {},
   "source": [
    "<img src=\"https://bit.ly/2VnXWr2\" width=\"100\" align=\"left\">"
   ]
  },
  {
   "cell_type": "markdown",
   "metadata": {},
   "source": [
    "# Temperature Sensor\n",
    "\n",
    "There is a temperature sensor in the processor of your company's server. The company wants to analyze the data provided by the sensor to decide if they should change the cooling system for a better one. As changing the cooling system is expensive and you are an excellent data analyst, you can't make a decision without basis.\n",
    "\n",
    "## Tools\n",
    "You don't necessarily need to use all the tools. Maybe you opt to use some of them or completely different ones, they are given to help you shape the exercise. Programming exercises can be solved in many different ways.\n",
    "1. Data structures: **lists**\n",
    "2. Loops: **list comprehension**\n",
    "3. Functions: **min, max, print, len**\n",
    "4. Conditional statements: **if-elif-else**\n",
    "\n",
    "## Tasks\n",
    "The temperatures measured throughout the 24 hours of a day are:"
   ]
  },
  {
   "cell_type": "code",
   "execution_count": 1,
   "metadata": {},
   "outputs": [],
   "source": [
    "temperatures_C = [33, 66, 65, 0, 59, 60, 62, 64, 70, 76, 80, 81, 80, 83, 90, 79, 61, 53, 50, 49, 53, 48, 45, 39]\n",
    "\n",
    "# interpolate missing values by averaging surrounding values\n",
    "temperatures_C = [(temperatures_C[i-1] + temperatures_C[i+1])/2 if temperatures_C[i] == 0 else temperatures_C[i] for i in range(len(temperatures_C))]"
   ]
  },
  {
   "cell_type": "markdown",
   "metadata": {},
   "source": [
    "The first element of the list is the temperature at 12am, the second element is the temperature at 1am, and so on. \n",
    "\n",
    "The company has decided that if one of the following events occurs, then the cooling system needs to be replaced for a new one to avoid damaging the processor.\n",
    "* More than 4 temperatures are greater than or equal to 70ºC.\n",
    "* Any temperature is above 80ºC.\n",
    "* The average temperature exceeds 65ºC.\n",
    "\n",
    "Follow the steps so that you can make the decision.\n",
    "\n",
    "#### 1. Find the minimum temperature of the day and store it in a variable."
   ]
  },
  {
   "cell_type": "code",
   "execution_count": 2,
   "metadata": {},
   "outputs": [
    {
     "name": "stdout",
     "output_type": "stream",
     "text": [
      "Mininum temperature of the day was 33ºC.\n"
     ]
    }
   ],
   "source": [
    "min_temp = min(temperatures_C)\n",
    "print(\"Mininum temperature of the day was %dºC.\" % min_temp)"
   ]
  },
  {
   "cell_type": "markdown",
   "metadata": {},
   "source": [
    "#### 2. Find the maximum temperature of the day and store it in a variable."
   ]
  },
  {
   "cell_type": "code",
   "execution_count": 3,
   "metadata": {},
   "outputs": [
    {
     "name": "stdout",
     "output_type": "stream",
     "text": [
      "Maximum temperature of the day was 90ºC.\n"
     ]
    }
   ],
   "source": [
    "max_temp = max(temperatures_C)\n",
    "print(\"Maximum temperature of the day was %dºC.\" % max_temp)"
   ]
  },
  {
   "cell_type": "markdown",
   "metadata": {},
   "source": [
    "#### 3. Create a list with the temperatures that are greater than or equal to 70ºC. Store it in a variable."
   ]
  },
  {
   "cell_type": "code",
   "execution_count": 4,
   "metadata": {},
   "outputs": [],
   "source": [
    "large_temps = [x for x in temperatures_C if x >= 70]"
   ]
  },
  {
   "cell_type": "markdown",
   "metadata": {},
   "source": [
    "#### 4. Find the average temperature of the day and store it in a variable."
   ]
  },
  {
   "cell_type": "code",
   "execution_count": 5,
   "metadata": {},
   "outputs": [
    {
     "name": "stdout",
     "output_type": "stream",
     "text": [
      "Average temperature of the day was 62.83\n"
     ]
    }
   ],
   "source": [
    "mean_temp = sum(temperatures_C)/len(temperatures_C)\n",
    "print(\"Average temperature of the day was %.2f\" % mean_temp)"
   ]
  },
  {
   "cell_type": "markdown",
   "metadata": {},
   "source": [
    "#### 5. Imagine that there was a sensor failure at 3am and the data for that specific hour was not recorded. How would you estimate the missing value? Replace the current value of the list at 3am for an estimation. "
   ]
  },
  {
   "cell_type": "markdown",
   "metadata": {},
   "source": [
    "- I would interpolate the missing value using the surrounding values, perhaps the average between 2 and 4 am.\n",
    "- However I did this at the start of the script so we would have the correct numbers for min max and mean."
   ]
  },
  {
   "cell_type": "markdown",
   "metadata": {},
   "source": [
    "#### 6. Bonus: the maintenance staff is from the United States and does not understand the international metric system. Help them by converting the temperatures from Celsius to Fahrenheit.\n",
    "To know more about temperature conversion check this [link](https://en.wikipedia.org/wiki/Conversion_of_units_of_temperature).\n",
    "\n",
    "**Formula**: \n",
    "\n",
    "$F = 1.8 * C + 32$"
   ]
  },
  {
   "cell_type": "code",
   "execution_count": 6,
   "metadata": {},
   "outputs": [],
   "source": [
    "# defined a function to transform celsius into fahrenheit\n",
    "def celsius_to_fahrenheit(celsius):\n",
    "    fahrenheit = 1.8 * celsius + 32\n",
    "    return fahrenheit\n",
    "\n",
    "# apply the function to each values in the celsius temperature variable\n",
    "temperatures_F = [celsius_to_fahrenheit(x) for x in temperatures_C]"
   ]
  },
  {
   "cell_type": "markdown",
   "metadata": {},
   "source": [
    "#### 7. Make a decision!\n",
    "Now it's time to make a decision taking into account what you have seen until now. \n",
    "\n",
    "Remember that if one of the following events occurs, then the cooling system needs to be replaced for a new one to avoid damaging the processor.\n",
    "* More than 4 temperatures are greater than or equal to 70ºC.\n",
    "* Any temperature is above 80ºC.\n",
    "* The average temperature exceeds 65ºC.\n",
    "\n",
    "#### To make your decision, check if any of the three conditions above is met. You might need to use some of the variables you created in steps 1 to 6. Print a message to show if the cooling system needs to be changed or not."
   ]
  },
  {
   "cell_type": "code",
   "execution_count": 7,
   "metadata": {},
   "outputs": [
    {
     "name": "stdout",
     "output_type": "stream",
     "text": [
      "The cooling system should be replaced. More than 4 temperatures are greater than or equal to 70ºC.\n"
     ]
    }
   ],
   "source": [
    "# check conditions\n",
    "\n",
    "if len(large_temps) > 4:\n",
    "    print(\"The cooling system should be replaced. More than 4 temperatures are greater than or equal to 70ºC.\")\n",
    "    \n",
    "elif max_temp > 80:\n",
    "    print(\"The cooling system should be replaced. The maximum temperature measured is above 80º C.\")\n",
    "\n",
    "elif mean_temp > 65:\n",
    "    print(\"The cooling system should be replaced. The average temperature exceeds 65ºC.\")"
   ]
  },
  {
   "cell_type": "markdown",
   "metadata": {},
   "source": [
    "## Bonus\n",
    "\n",
    "The company has decided that the decision you made is not valid. They want you to analyze the data again but this time, the conditions that need to be met in order to change the cooling system are different.\n",
    "\n",
    "This time, if one of the following events occurs, then the cooling system needs to be replaced:\n",
    "* The temperature is greater than 70ºC during more than 4 consecutive hours.\n",
    "* Any temperature is above 80ºC.\n",
    "* The average temperature exceeds 65ºC.\n",
    "\n",
    "Follow the steps so that you can make the decision.\n",
    "\n",
    "#### 1. Create a list with the hours where the temperature is greater than 70ºC. Store it in a variable."
   ]
  },
  {
   "cell_type": "code",
   "execution_count": 8,
   "metadata": {},
   "outputs": [],
   "source": [
    "# get the indexes when the temperature was higher than 70\n",
    "hours = [i for i, j in enumerate(temperatures_C) if j > 70]"
   ]
  },
  {
   "cell_type": "markdown",
   "metadata": {},
   "source": [
    "#### 2. Check if the list you created in step 1 has more than 4 consecutive hours. "
   ]
  },
  {
   "cell_type": "code",
   "execution_count": 9,
   "metadata": {},
   "outputs": [
    {
     "name": "stdout",
     "output_type": "stream",
     "text": [
      "Currently at 2 consecutive hours of overheating.\n",
      "Currently at 3 consecutive hours of overheating.\n",
      "Currently at 4 consecutive hours of overheating.\n",
      "Currently at 5 consecutive hours of overheating.\n",
      "Currently at 6 consecutive hours of overheating.\n",
      "Currently at 7 consecutive hours of overheating.\n"
     ]
    }
   ],
   "source": [
    "# variable to count consecutive hours in excess temperature\n",
    "# starts at 1 because the first hour detected was already at high temp.\n",
    "count = 1\n",
    "consecutive = []\n",
    "\n",
    "# iterate over the list of high temp hours\n",
    "for i in range(len(hours) - 1):\n",
    "    \n",
    "    # calculate the difference between consecutive elements of the list\n",
    "    diff = hours[i+1] - hours[i]\n",
    "        \n",
    "    # if the difference is 1\n",
    "    if diff == 1:\n",
    "        # add 1 to consecutive count\n",
    "        count += 1\n",
    "    # if difference is not 1\n",
    "    else:\n",
    "        # reset consecutive counter\n",
    "        count = 0\n",
    "\n",
    "    # append the current counter to a list\n",
    "    consecutive.append(count)\n",
    "    \n",
    "    print(\"Currently at %d consecutive hours of overheating.\" % count)\n",
    "    "
   ]
  },
  {
   "cell_type": "markdown",
   "metadata": {},
   "source": [
    "#### 3. Make the decision!\n",
    "To make your decision, check if any of the three conditions is met. Print a message to show if the cooling system needs to be changed or not."
   ]
  },
  {
   "cell_type": "code",
   "execution_count": 10,
   "metadata": {},
   "outputs": [
    {
     "name": "stdout",
     "output_type": "stream",
     "text": [
      "The cooling system should be replaced. Temperatures are higher than 70ºC in more than 4 consecutive hours.\n"
     ]
    }
   ],
   "source": [
    "# check if the maximum value of our consecutive list is larger than 4\n",
    "if max(consecutive) > 4:\n",
    "    print(\"The cooling system should be replaced. Temperatures are higher than 70ºC in more than 4 consecutive hours.\")\n",
    "\n",
    "elif max_temp > 80:\n",
    "    print(\"The cooling system should be replaced. The maximum temperature measured is above 80º C.\")\n",
    "\n",
    "elif mean_temp > 65:\n",
    "    print(\"The cooling system should be replaced. The average temperature exceeds 65ºC.\")\n"
   ]
  },
  {
   "cell_type": "markdown",
   "metadata": {},
   "source": [
    "#### 4. Find the average value of the temperature lists (ºC and ºF). What is the relation between both average values?"
   ]
  },
  {
   "cell_type": "code",
   "execution_count": 11,
   "metadata": {},
   "outputs": [
    {
     "name": "stdout",
     "output_type": "stream",
     "text": [
      "Mean temperature in celsius: 62.83ºC.\n",
      "Mean temperature in fahrenheit: 145.10ºC.\n",
      "Relationship is the same as the formula.\n"
     ]
    }
   ],
   "source": [
    "# finding means\n",
    "mean_C = sum(temperatures_C)/len(temperatures_C)\n",
    "mean_F = sum(temperatures_F)/len(temperatures_F)\n",
    "\n",
    "print(\"Mean temperature in celsius: %.2fºC.\" % mean_C)\n",
    "print(\"Mean temperature in fahrenheit: %.2fºC.\" % mean_F)\n",
    "\n",
    "relation = round(1.8 * mean_C + 32, 2)\n",
    "\n",
    "if relation == mean_F:\n",
    "    print(\"Relationship is the same as the formula.\")\n",
    "else:\n",
    "    print(\"There's a different relationship between the averages and individual values.\")"
   ]
  },
  {
   "cell_type": "markdown",
   "metadata": {},
   "source": [
    "# NOTES\n",
    "- I'm unclear as to what is meant here by the relation between both averages. The relationship between these values should be the formula provided above. The average temperature in Fahrenheit is 1.8 times the average temperature in Celsius plus 32. "
   ]
  },
  {
   "cell_type": "markdown",
   "metadata": {},
   "source": [
    "#### 5. Find the standard deviation of the temperature lists (ºC and ºF). What is the relation between both standard deviations?"
   ]
  },
  {
   "cell_type": "code",
   "execution_count": 12,
   "metadata": {},
   "outputs": [
    {
     "name": "stdout",
     "output_type": "stream",
     "text": [
      "Standard deviation in celsius: 14.95\n",
      "Standard deviation in fahrenheit: 26.91\n",
      "There's a different relationship between the averages and individual values.\n"
     ]
    }
   ],
   "source": [
    "import numpy as np\n",
    "\n",
    "stdev_C = np.std(temperatures_C, ddof = 1)\n",
    "stdev_F = np.std(temperatures_F, ddof = 1)\n",
    "\n",
    "print(\"Standard deviation in celsius: %.2f\" % stdev_C)\n",
    "print(\"Standard deviation in fahrenheit: %.2f\" % stdev_F)\n",
    "\n",
    "relation = round(1.8 * stdev_C + 32, 2)\n",
    "\n",
    "if relation == stdev_F:\n",
    "    print(\"Relationship is the same as the formula.\")\n",
    "else:\n",
    "    print(\"There's a different relationship between the averages and individual values.\")"
   ]
  },
  {
   "cell_type": "markdown",
   "metadata": {},
   "source": [
    "# NOTES\n",
    "- In the case of the standard deviation the relationship between the values is different. Probably because the sqare root introduces a nonlinearity in the transformation?"
   ]
  }
 ],
 "metadata": {
  "kernelspec": {
   "display_name": "Python 3",
   "language": "python",
   "name": "python3"
  },
  "language_info": {
   "codemirror_mode": {
    "name": "ipython",
    "version": 3
   },
   "file_extension": ".py",
   "mimetype": "text/x-python",
   "name": "python",
   "nbconvert_exporter": "python",
   "pygments_lexer": "ipython3",
   "version": "3.7.4"
  }
 },
 "nbformat": 4,
 "nbformat_minor": 2
}
