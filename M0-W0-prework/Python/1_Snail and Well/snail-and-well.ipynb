{
 "cells": [
  {
   "cell_type": "markdown",
   "metadata": {},
   "source": [
    "<img src=\"https://bit.ly/2VnXWr2\" width=\"100\" align=\"left\">"
   ]
  },
  {
   "cell_type": "markdown",
   "metadata": {},
   "source": [
    "# The Snail and the Well\n",
    "\n",
    "A snail falls at the bottom of a 125 cm well. Each day the snail rises 30 cm. But at night, while sleeping, slides 20 cm because the walls are wet. How many days does it take for the snail to escape the well?\n",
    "\n",
    "**Hint**: The snail gets out of the well when it surpasses the 125cm of height.\n",
    "\n",
    "## Tools\n",
    "\n",
    "1. Loop: **while**\n",
    "2. Conditional statements: **if-else**\n",
    "3. Function: **print()**\n",
    "\n",
    "## Tasks\n",
    "\n",
    "#### 1. Assign the challenge data to variables with representative names: `well_height`, `daily_distance`, `nightly_distance` and `snail_position`."
   ]
  },
  {
   "cell_type": "code",
   "execution_count": 9,
   "metadata": {},
   "outputs": [],
   "source": [
    "# assign varibles (units in cm)\n",
    "well_height = 125 # target position\n",
    "daily_distance = 30\n",
    "nightly_distance = 20\n",
    "snail_position = 0 # starting position"
   ]
  },
  {
   "cell_type": "markdown",
   "metadata": {},
   "source": [
    "#### 2. Create a variable `days` to keep count of the days that pass until the snail escapes the well. "
   ]
  },
  {
   "cell_type": "code",
   "execution_count": 10,
   "metadata": {},
   "outputs": [],
   "source": [
    "days = 0"
   ]
  },
  {
   "cell_type": "markdown",
   "metadata": {},
   "source": [
    "#### 3. Find the solution to the challenge using the variables defined above. "
   ]
  },
  {
   "cell_type": "code",
   "execution_count": 11,
   "metadata": {
    "scrolled": true
   },
   "outputs": [
    {
     "name": "stdout",
     "output_type": "stream",
     "text": [
      "I've climbed 10 cm!\n",
      "I've climbed 20 cm!\n",
      "I've climbed 30 cm!\n",
      "I've climbed 40 cm!\n",
      "I've climbed 50 cm!\n",
      "I've climbed 60 cm!\n",
      "I've climbed 70 cm!\n",
      "I've climbed 80 cm!\n",
      "I've climbed 90 cm!\n",
      "I've climbed 100 cm!\n",
      "Freedom!\n"
     ]
    }
   ],
   "source": [
    "# while the position of the snail is not larger than the height of the well\n",
    "while snail_position <= well_height:\n",
    "    \n",
    "    # update snail position\n",
    "    snail_position += daily_distance\n",
    "    \n",
    "    # at this point we check again whether the snail made it out or not\n",
    "    if snail_position <= well_height:\n",
    "        \n",
    "        # if it didn't, then we subtract the night slide\n",
    "        snail_position -= nightly_distance\n",
    "        \n",
    "        print(\"I've climbed %d cm!\" % snail_position)\n",
    "\n",
    "    else:\n",
    "        # if it did, we subtract nothing and the while loop should end.\n",
    "        print(\"Freedom!\")\n",
    "    \n",
    "    # a day has passed.\n",
    "    days += 1"
   ]
  },
  {
   "cell_type": "markdown",
   "metadata": {},
   "source": [
    "#### 4. Print the solution."
   ]
  },
  {
   "cell_type": "code",
   "execution_count": 12,
   "metadata": {},
   "outputs": [
    {
     "name": "stdout",
     "output_type": "stream",
     "text": [
      "The snail takes 11 days to get out of the well.\n"
     ]
    }
   ],
   "source": [
    "solution = \"The snail takes %s days to get out of the well.\"\n",
    "print(solution % days)"
   ]
  },
  {
   "cell_type": "markdown",
   "metadata": {},
   "source": [
    "## Bonus\n",
    "The distance traveled by the snail each day is now defined by a list.\n",
    "```\n",
    "advance_cm = [30, 21, 33, 77, 44, 45, 23, 45, 12, 34, 55]\n",
    "```\n",
    "On the first day, the snail rises 30cm but during the night it slides 20cm. On the second day, the snail rises 21cm but during the night it slides 20cm, and so on. \n",
    "\n",
    "#### 1. How many days does it take for the snail to escape the well?\n",
    "Follow the same guidelines as in the previous challenge.\n",
    "\n",
    "**Hint**: Remember that the snail gets out of the well when it surpasses the 125cm of height."
   ]
  },
  {
   "cell_type": "code",
   "execution_count": 13,
   "metadata": {},
   "outputs": [
    {
     "name": "stdout",
     "output_type": "stream",
     "text": [
      "I've climbed 10 cm!\n",
      "I've climbed 11 cm!\n",
      "I've climbed 24 cm!\n",
      "I've climbed 81 cm!\n",
      "I've climbed 105 cm!\n",
      "Freedom!\n",
      "The snail now takes 6 days to get out of the well.\n"
     ]
    }
   ],
   "source": [
    "# reset days and snail position variables, new advance data\n",
    "days = 0\n",
    "snail_position = 0\n",
    "advance_cm = [30, 21, 33, 77, 44, 45, 23, 45, 12, 34, 55]\n",
    "\n",
    "# create a daily variable to later check the max and min displacements\n",
    "daily_progress = [0]\n",
    "\n",
    "while snail_position <= well_height:\n",
    "    \n",
    "    # add the daily progress\n",
    "    snail_position += advance_cm[days]\n",
    "    \n",
    "    if snail_position <= well_height:\n",
    "        \n",
    "        snail_position -= nightly_distance\n",
    "        daily_progress.append(snail_position)\n",
    "        print(\"I've climbed %d cm!\" % snail_position)\n",
    "        \n",
    "    \n",
    "    else:\n",
    "        daily_progress.append(well_height)\n",
    "        print(\"Freedom!\")\n",
    "    \n",
    "    # a day has passed.\n",
    "    days += 1\n",
    "\n",
    "# our daily variable had stored the position of the snail each day, so to get the progress we subtract day(T) from day(T+1)\n",
    "daily_progress = [daily_progress[i+1] - daily_progress[i] for i in range(len(daily_progress) - 1)]\n",
    "\n",
    "solution = \"The snail now takes %d days to get out of the well.\"\n",
    "print(solution % days)"
   ]
  },
  {
   "cell_type": "markdown",
   "metadata": {},
   "source": [
    "#### 2. What is its maximum displacement in one day? And its minimum? Calculate the displacement using only the travel distance of the days used to get out of the well. \n",
    "**Hint**: Remember that displacement means the total distance risen taking into account that the snail slides at night.  "
   ]
  },
  {
   "cell_type": "code",
   "execution_count": 14,
   "metadata": {},
   "outputs": [
    {
     "name": "stdout",
     "output_type": "stream",
     "text": [
      "The maximum displacement in a day is 57 cm.\n",
      "The minumum displacement in a day is 1 cm.\n"
     ]
    }
   ],
   "source": [
    "# I used the built-in max and min functions\n",
    "print(\"The maximum displacement in a day is %d cm.\" % max(daily_progress))\n",
    "print(\"The minumum displacement in a day is %d cm.\" % min(daily_progress))"
   ]
  },
  {
   "cell_type": "markdown",
   "metadata": {},
   "source": [
    "#### 3. What is its average progress? Take into account the snail slides at night."
   ]
  },
  {
   "cell_type": "code",
   "execution_count": 15,
   "metadata": {},
   "outputs": [
    {
     "name": "stdout",
     "output_type": "stream",
     "text": [
      "The average progress of the snail is 20.833333 cm.\n"
     ]
    }
   ],
   "source": [
    "# calculate average using sum() divided by len()\n",
    "average_progress = sum(daily_progress)/len(daily_progress)\n",
    "print(\"The average progress of the snail is %f cm.\" % average_progress)"
   ]
  },
  {
   "cell_type": "markdown",
   "metadata": {},
   "source": [
    "#### 4. What is the standard deviation of its displacement? Take into account the snail slides at night."
   ]
  },
  {
   "cell_type": "code",
   "execution_count": 16,
   "metadata": {},
   "outputs": [
    {
     "name": "stdout",
     "output_type": "stream",
     "text": [
      "The standard deviation of the displacement is 19.446508 cm.\n",
      "Numpy: 17.752152 cm.\n",
      "Statistics: 19.446508 cm.\n"
     ]
    }
   ],
   "source": [
    "# import some math packages to use square root functions and check manual calculations.\n",
    "import numpy as np\n",
    "import statistics\n",
    "\n",
    "# divided the calculations in two steps\n",
    "\n",
    "# first calculate the sum of the squared difference between each data point and the mean\n",
    "squared_sum = sum([(x - average_progress)**2 for x in daily_progress])\n",
    "\n",
    "# then divided by the number of data points minus 1 and applied squared root\n",
    "std_dev = np.sqrt(squared_sum/(len(daily_progress) - 1))\n",
    "\n",
    "print(\"The standard deviation of the displacement is %f cm.\" % std_dev)\n",
    "\n",
    "# checking with other built-in functions\n",
    "print(\"Numpy: %f cm.\" % np.std(daily_progress))\n",
    "print(\"Statistics: %f cm.\" % statistics.stdev(daily_progress))"
   ]
  },
  {
   "cell_type": "markdown",
   "metadata": {},
   "source": [
    "# NOTES\n",
    "\n",
    "The std dev function from numpy yields a different result because they don't subtract 1 from the len(x). They argue that because the standard deviation is a squared root of the variance even if you do subtract it if will not provide an unbiased estimate (because of the nonlinearity of squared root). \n",
    "\n",
    "**This makes sense as I write it, but I do not really understand it.**"
   ]
  },
  {
   "cell_type": "code",
   "execution_count": null,
   "metadata": {},
   "outputs": [],
   "source": []
  }
 ],
 "metadata": {
  "kernelspec": {
   "display_name": "Python 3",
   "language": "python",
   "name": "python3"
  },
  "language_info": {
   "codemirror_mode": {
    "name": "ipython",
    "version": 3
   },
   "file_extension": ".py",
   "mimetype": "text/x-python",
   "name": "python",
   "nbconvert_exporter": "python",
   "pygments_lexer": "ipython3",
   "version": "3.7.4"
  }
 },
 "nbformat": 4,
 "nbformat_minor": 2
}
