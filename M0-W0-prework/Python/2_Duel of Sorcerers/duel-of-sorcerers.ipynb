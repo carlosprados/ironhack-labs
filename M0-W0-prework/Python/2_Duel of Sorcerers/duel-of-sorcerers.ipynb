{
 "cells": [
  {
   "cell_type": "markdown",
   "metadata": {},
   "source": [
    "<img src=\"https://bit.ly/2VnXWr2\" width=\"100\" align=\"left\">"
   ]
  },
  {
   "cell_type": "markdown",
   "metadata": {},
   "source": [
    "# Duel of Sorcerers\n",
    "You are witnessing an epic battle between two powerful sorcerers: Gandalf and Saruman. Each sorcerer has 10 spells of variable power in their mind and they are going to throw them one after the other. The winner of the duel will be the one who wins more of those clashes between spells. Spells are represented as a list of 10 integers whose value equals the power of the spell.\n",
    "```\n",
    "gandalf = [10, 11, 13, 30, 22, 11, 10, 33, 22, 22]\n",
    "saruman = [23, 66, 12, 43, 12, 10, 44, 23, 12, 17]\n",
    "```\n",
    "For example:\n",
    "- The first clash is won by Saruman: 10 against 23.\n",
    "- The second clash is won by Saruman: 11 against 66.\n",
    "- ...\n",
    "\n",
    "You will create two variables, one for each sorcerer, where the sum of clashes won will be stored. Depending on which variable is greater at the end of the duel, you will show one of the following three results on the screen:\n",
    "* Gandalf wins\n",
    "* Saruman wins\n",
    "* Tie\n",
    "\n",
    "<img src=\"images/content_lightning_bolt_big.jpg\" width=\"400\">"
   ]
  },
  {
   "cell_type": "markdown",
   "metadata": {},
   "source": [
    "## Tools\n",
    "You don't necessarily need to use all the tools. Maybe you opt to use some of them or completely different ones, they are given to help you shape the exercise. Programming exercises can be solved in many different ways.\n",
    "\n",
    "1. Data structures: **lists, dictionaries**\n",
    "2. Loop: **for loop**\n",
    "3. Conditional statements: **if-elif-else**\n",
    "4. Functions: **range(), len(), print()**\n",
    "\n",
    "## Tasks\n",
    "\n",
    "#### 1. Create two variables called `gandalf` and `saruman` and assign them the spell power lists. Create a variable called `spells` to store the number of spells that the sorcerers cast. "
   ]
  },
  {
   "cell_type": "code",
   "execution_count": 1,
   "metadata": {},
   "outputs": [],
   "source": [
    "# assigning variables\n",
    "gandalf = [10, 11, 13, 30, 22, 11, 10, 33, 22, 22]\n",
    "saruman = [23, 66, 12, 43, 12, 10, 44, 23, 12, 17]\n",
    "\n",
    "# using the gandalf variable to store the number of spells\n",
    "spells = len(gandalf)"
   ]
  },
  {
   "cell_type": "markdown",
   "metadata": {},
   "source": [
    "#### 2. Create two variables called `gandalf_wins` and `saruman_wins`. Set both of them to 0. \n",
    "You will use these variables to count the number of clashes each sorcerer wins. "
   ]
  },
  {
   "cell_type": "code",
   "execution_count": 2,
   "metadata": {},
   "outputs": [],
   "source": [
    "# variables to count wins\n",
    "gandalf_wins = 0\n",
    "saruman_wins = 0"
   ]
  },
  {
   "cell_type": "markdown",
   "metadata": {},
   "source": [
    "#### 3. Using the lists of spells of both sorcerers, update variables `gandalf_wins` and `saruman_wins` to count the number of times each sorcerer wins a clash. "
   ]
  },
  {
   "cell_type": "code",
   "execution_count": 3,
   "metadata": {},
   "outputs": [
    {
     "name": "stdout",
     "output_type": "stream",
     "text": [
      "Saruman wins! (1)\n",
      "Saruman wins! (2)\n",
      "Gandalf wins! (1)\n",
      "Saruman wins! (3)\n",
      "Gandalf wins! (2)\n",
      "Gandalf wins! (3)\n",
      "Saruman wins! (4)\n",
      "Gandalf wins! (4)\n",
      "Gandalf wins! (5)\n",
      "Gandalf wins! (6)\n"
     ]
    }
   ],
   "source": [
    "# iterate over the number of spells\n",
    "for i in range(spells):\n",
    "    \n",
    "    # check if gandalf won\n",
    "    if gandalf[i] > saruman[i]:\n",
    "        gandalf_wins += 1\n",
    "        print(\"Gandalf wins! (%d)\" % gandalf_wins)\n",
    "    else:\n",
    "        saruman_wins += 1\n",
    "        print(\"Saruman wins! (%d)\" % saruman_wins)"
   ]
  },
  {
   "cell_type": "markdown",
   "metadata": {},
   "source": [
    "#### 4. Who won the battle?\n",
    "Print `Gandalf wins`, `Saruman wins` or `Tie` depending on the result. "
   ]
  },
  {
   "cell_type": "code",
   "execution_count": 4,
   "metadata": {},
   "outputs": [
    {
     "name": "stdout",
     "output_type": "stream",
     "text": [
      "Gandalf wins! (6 to 4)\n"
     ]
    }
   ],
   "source": [
    "# check if gandalf won\n",
    "if gandalf_wins > saruman_wins:\n",
    "    print(\"Gandalf wins! (%d to %d)\" % (gandalf_wins, saruman_wins))\n",
    "    \n",
    "# or saruman won\n",
    "elif saruman_wins > gandalf_wins:\n",
    "    print(\"Saruman wins! (%d to %d)\" % (saruman_wins, gandalf_wins))\n",
    "\n",
    "# or neither    \n",
    "else:\n",
    "    print(\"Tie\")"
   ]
  },
  {
   "cell_type": "markdown",
   "metadata": {},
   "source": [
    "## Bonus\n",
    "\n",
    "In this bonus challenge, you'll need to check the winner of the battle but this time, a sorcerer wins if he succeeds in winning 3 spell clashes in a row.\n",
    "\n",
    "Also, the spells now have a name and there is a dictionary that associates that name to a power.\n",
    "\n",
    "```\n",
    "POWER = {\n",
    "    'Fireball': 50, \n",
    "    'Lightning bolt': 40, \n",
    "    'Magic arrow': 10, \n",
    "    'Black Tentacles': 25, \n",
    "    'Contagion': 45\n",
    "}\n",
    "\n",
    "gandalf = ['Fireball', 'Lightning bolt', 'Lightning bolt', 'Magic arrow', 'Fireball', \n",
    "           'Magic arrow', 'Lightning bolt', 'Fireball', 'Fireball', 'Fireball']\n",
    "saruman = ['Contagion', 'Contagion', 'Black Tentacles', 'Fireball', 'Black Tentacles', \n",
    "           'Lightning bolt', 'Magic arrow', 'Contagion', 'Magic arrow', 'Magic arrow']\n",
    "```\n",
    "\n",
    "#### 1. Create variables `POWER`, `gandalf` and `saruman` as seen above. Create a variable called `spells` to store the number of spells that the sorcerers cast. "
   ]
  },
  {
   "cell_type": "code",
   "execution_count": 5,
   "metadata": {},
   "outputs": [],
   "source": [
    "# assinging variables\n",
    "POWER = {\n",
    "    'Fireball': 50, \n",
    "    'Lightning bolt': 40, \n",
    "    'Magic arrow': 10, \n",
    "    'Black Tentacles': 25, \n",
    "    'Contagion': 45\n",
    "}\n",
    "\n",
    "gandalf = ['Fireball', 'Lightning bolt', 'Lightning bolt', 'Magic arrow', 'Fireball', \n",
    "           'Magic arrow', 'Lightning bolt', 'Fireball', 'Fireball', 'Fireball']\n",
    "saruman = ['Contagion', 'Contagion', 'Black Tentacles', 'Fireball', 'Black Tentacles', \n",
    "           'Lightning bolt', 'Magic arrow', 'Contagion', 'Magic arrow', 'Magic arrow']\n",
    "\n",
    "# using the gandalf variable to store the number of spells\n",
    "spells = len(gandalf)"
   ]
  },
  {
   "cell_type": "markdown",
   "metadata": {},
   "source": [
    "#### 2. Create two variables called `gandalf_wins` and `saruman_wins`. Set both of them to 0. "
   ]
  },
  {
   "cell_type": "code",
   "execution_count": 6,
   "metadata": {},
   "outputs": [],
   "source": [
    "# variables to count wins\n",
    "gandalf_wins = 0\n",
    "saruman_wins = 0"
   ]
  },
  {
   "cell_type": "markdown",
   "metadata": {},
   "source": [
    "#### 3. Create two variables called `gandalf_power` and `saruman_power` to store the list of spell powers of each sorcerer."
   ]
  },
  {
   "cell_type": "code",
   "execution_count": 7,
   "metadata": {},
   "outputs": [
    {
     "name": "stdout",
     "output_type": "stream",
     "text": [
      "[50, 40, 40, 10, 50, 10, 40, 50, 50, 50]\n",
      "[45, 45, 25, 50, 25, 40, 10, 45, 10, 10]\n"
     ]
    }
   ],
   "source": [
    "# extracting the list of spell power from the POWER dictionary\n",
    "gandalf_power = [POWER[x] for x in gandalf]\n",
    "saruman_power = [POWER[x] for x in saruman]\n",
    "\n",
    "print(gandalf_power)\n",
    "print(saruman_power)"
   ]
  },
  {
   "cell_type": "markdown",
   "metadata": {},
   "source": [
    "#### 4. The battle starts! Using the variables you've created above, code the execution of spell clashes. Remember that a sorcerer wins if he succeeds in winning 3 spell clashes in a row. \n",
    "If a clash ends up in a tie, the counter of wins in a row is not restarted to 0. Remember to print who is the winner of the battle. "
   ]
  },
  {
   "cell_type": "code",
   "execution_count": 8,
   "metadata": {},
   "outputs": [
    {
     "name": "stdout",
     "output_type": "stream",
     "text": [
      "Gandalf wins! (in a row: 1)\n",
      "Saruman wins! (in a row: 1)\n",
      "Gandalf wins! (in a row: 1)\n",
      "Saruman wins! (in a row: 1)\n",
      "Gandalf wins! (in a row: 1)\n",
      "Saruman wins! (in a row: 1)\n",
      "Gandalf wins! (in a row: 1)\n",
      "Gandalf wins! (in a row: 2)\n",
      "Match over! Gandalf wins!\n"
     ]
    }
   ],
   "source": [
    "# iterate over the number of spells\n",
    "\n",
    "for i in range(spells):\n",
    "    \n",
    "    # check if gandalf won and there are less than 2 wins in a row\n",
    "    if gandalf_power[i] > saruman_power[i] and gandalf_wins < 2:\n",
    "        # add a win counter to gandalf\n",
    "        gandalf_wins += 1\n",
    "        # reset saruman's counter to zero\n",
    "        saruman_wins = 0\n",
    "        \n",
    "        print(\"Gandalf wins! (in a row: %d)\" % gandalf_wins)\n",
    "    \n",
    "    # now we check if gandalf won but he already has 2 wins in a row\n",
    "    elif gandalf_power[i] > saruman_power[i] and gandalf_wins == 2:\n",
    "        # still add a win counter to gandalf to stop the condition from being met in the next iteration\n",
    "        gandalf_wins += 1\n",
    "        \n",
    "        print(\"Match over! Gandalf wins!\")\n",
    "    \n",
    "    # and we do the same for saruman\n",
    "    elif saruman_power[i] > gandalf_power[i] and saruman_wins < 2:\n",
    "        saruman_wins += 1\n",
    "        gandalf_wins = 0\n",
    "        \n",
    "        print(\"Saruman wins! (in a row: %d)\" % saruman_wins)\n",
    "        \n",
    "    elif saruman_power[i] > gandalf_power[i] and saruman_wins == 2:\n",
    "        saruman_counter += 1\n",
    "        print(\"Match over! Saruman wins!\")\n",
    "    \n",
    "    # anything else (ties or more than 3 wins in a row) nothing happens.\n",
    "    else:\n",
    "        pass\n",
    "    "
   ]
  },
  {
   "cell_type": "markdown",
   "metadata": {},
   "source": [
    "#### 5. Find the average spell power of Gandalf and Saruman. "
   ]
  },
  {
   "cell_type": "code",
   "execution_count": 9,
   "metadata": {},
   "outputs": [
    {
     "name": "stdout",
     "output_type": "stream",
     "text": [
      "Gandalf's power average: 39.00\n",
      "Saruman's power average: 30.50\n"
     ]
    }
   ],
   "source": [
    "# I will use built-in functions now, I hope it's okay.\n",
    "import numpy as np\n",
    "\n",
    "# I will use the entire list of spells for each sorcerer, not only the ones used to win the last duel.\n",
    "gandalf_average = np.mean(gandalf_power)\n",
    "print(\"Gandalf's power average: %.2f\" % gandalf_average)\n",
    "\n",
    "saruman_average = np.mean(saruman_power)\n",
    "print(\"Saruman's power average: %.2f\" % saruman_average)\n"
   ]
  },
  {
   "cell_type": "markdown",
   "metadata": {},
   "source": [
    "#### 6. Find the standard deviation of the spell power of Gandalf and Saruman. "
   ]
  },
  {
   "cell_type": "code",
   "execution_count": 10,
   "metadata": {},
   "outputs": [
    {
     "name": "stdout",
     "output_type": "stream",
     "text": [
      "Gandalf's power standard deviation: 15.95\n",
      "Saruman's power standard deviation: 16.41\n"
     ]
    }
   ],
   "source": [
    "gandalf_stdev = np.std(gandalf_power, ddof = 1)\n",
    "print(\"Gandalf's power standard deviation: %.2f\" % gandalf_stdev)\n",
    "\n",
    "saruman_stdev = np.std(saruman_power, ddof = 1)\n",
    "print(\"Saruman's power standard deviation: %.2f\" % saruman_stdev)"
   ]
  }
 ],
 "metadata": {
  "kernelspec": {
   "display_name": "Python 3",
   "language": "python",
   "name": "python3"
  },
  "language_info": {
   "codemirror_mode": {
    "name": "ipython",
    "version": 3
   },
   "file_extension": ".py",
   "mimetype": "text/x-python",
   "name": "python",
   "nbconvert_exporter": "python",
   "pygments_lexer": "ipython3",
   "version": "3.7.4"
  }
 },
 "nbformat": 4,
 "nbformat_minor": 2
}
