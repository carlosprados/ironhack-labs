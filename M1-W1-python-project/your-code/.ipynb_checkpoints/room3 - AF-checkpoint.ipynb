{
 "cells": [
  {
   "cell_type": "code",
   "execution_count": null,
   "metadata": {},
   "outputs": [],
   "source": [
    "#define rooms and items\n",
    "\n",
    "living_room = {\n",
    "    \"name\": \"living room\",\n",
    "    \"type\": \"room\"\n",
    "}\n",
    "\n",
    "dining_table = {\n",
    "    \"name\": \"dining table\",\n",
    "    \"type\": \"room\"\n",
    "}\n",
    "\n",
    "door_c = {\n",
    "    \"name\": \"door c\",\n",
    "    \"type:\" \"door\"\n",
    "}\n",
    "\n",
    "door_d = {\n",
    "    \"name\": \"door d\",\n",
    "    \"type:\" \"door\"\n",
    "}\n",
    "\n",
    "###----------------TO UPDATE --------------------------###\n",
    "all_rooms = [game_room, outside]\n",
    "\n",
    "all_doors = [door_a]\n",
    "\n",
    "###------------------ANA's LIVING ROOM UPDATE ---------------###\n",
    "\n",
    "object_relations = {\n",
    "    \"outside\": [door_d],\n",
    "    \"living_room\": [dining_table, door_d],\n",
    "    \"door_d\": [living_room, outside]\n",
    "}"
   ]
  },
  {
   "cell_type": "code",
   "execution_count": null,
   "metadata": {},
   "outputs": [],
   "source": []
  }
 ],
 "metadata": {
  "kernelspec": {
   "display_name": "Python 3",
   "language": "python",
   "name": "python3"
  },
  "language_info": {
   "codemirror_mode": {
    "name": "ipython",
    "version": 3
   },
   "file_extension": ".py",
   "mimetype": "text/x-python",
   "name": "python",
   "nbconvert_exporter": "python",
   "pygments_lexer": "ipython3",
   "version": "3.7.2"
  }
 },
 "nbformat": 4,
 "nbformat_minor": 2
}
