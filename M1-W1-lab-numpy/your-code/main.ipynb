{
 "cells": [
  {
   "cell_type": "markdown",
   "metadata": {},
   "source": [
    "# Intrduction to NumPy\n",
    "\n",
    "\n",
    "#### 1. Import NumPy under the name np."
   ]
  },
  {
   "cell_type": "code",
   "execution_count": 58,
   "metadata": {},
   "outputs": [],
   "source": [
    "# your code here\n",
    "\n",
    "import numpy as np"
   ]
  },
  {
   "cell_type": "markdown",
   "metadata": {},
   "source": [
    "#### 2. Print your NumPy version."
   ]
  },
  {
   "cell_type": "code",
   "execution_count": 59,
   "metadata": {},
   "outputs": [
    {
     "name": "stdout",
     "output_type": "stream",
     "text": [
      "1.16.5\n"
     ]
    }
   ],
   "source": [
    "# your code here\n",
    "print(np.__version__)"
   ]
  },
  {
   "cell_type": "markdown",
   "metadata": {},
   "source": [
    "#### 3. Generate a 2x3x5 3-dimensional array with random values. Assign the array to variable *a*.\n",
    "**Challenge**: there are at least three easy ways that use numpy to generate random arrays. How many ways can you find?"
   ]
  },
  {
   "cell_type": "code",
   "execution_count": 60,
   "metadata": {},
   "outputs": [
    {
     "data": {
      "text/plain": [
       "array([[[0.10399192, 0.12078598, 0.12014439, 0.62501393, 0.56467036],\n",
       "        [0.0289747 , 0.00960962, 0.43467308, 0.52758916, 0.78686069],\n",
       "        [0.7196375 , 0.76003604, 0.00714179, 0.6091045 , 0.80004466]],\n",
       "\n",
       "       [[0.21275802, 0.50110086, 0.41641672, 0.26152589, 0.49509987],\n",
       "        [0.52284138, 0.82668594, 0.9650576 , 0.16245001, 0.84817295],\n",
       "        [0.57318749, 0.55731291, 0.11306804, 0.93861606, 0.67292029]]])"
      ]
     },
     "execution_count": 60,
     "metadata": {},
     "output_type": "execute_result"
    }
   ],
   "source": [
    "# Method 1\n",
    "a = np.random.random((2,3,5))\n",
    "a"
   ]
  },
  {
   "cell_type": "code",
   "execution_count": 61,
   "metadata": {},
   "outputs": [
    {
     "data": {
      "text/plain": [
       "array([[[9.74591070e-02, 4.73709703e-01, 9.07242472e-01, 5.98995924e-01,\n",
       "         4.42857555e-01],\n",
       "        [1.73559006e-01, 2.54141545e-01, 3.80879987e-01, 2.44382178e-01,\n",
       "         9.00499407e-01],\n",
       "        [3.37594308e-01, 6.72352393e-02, 6.85607873e-01, 8.23593535e-01,\n",
       "         7.19085699e-01]],\n",
       "\n",
       "       [[8.39290799e-01, 6.89832667e-01, 5.85009543e-02, 1.63982328e-02,\n",
       "         9.65175614e-01],\n",
       "        [8.45610597e-01, 1.33299662e-01, 7.17187629e-01, 1.67254379e-01,\n",
       "         2.80536598e-01],\n",
       "        [1.96888924e-04, 2.22692766e-01, 3.16866961e-01, 5.01123277e-01,\n",
       "         8.71597328e-01]]])"
      ]
     },
     "execution_count": 61,
     "metadata": {},
     "output_type": "execute_result"
    }
   ],
   "source": [
    "# Method 2\n",
    "a = np.random.rand(2, 3, 5)\n",
    "a"
   ]
  },
  {
   "cell_type": "code",
   "execution_count": 62,
   "metadata": {},
   "outputs": [
    {
     "data": {
      "text/plain": [
       "array([[[0.96262916, 0.90839864, 0.58269439, 0.94940268, 0.13648753],\n",
       "        [0.80642985, 0.54037834, 0.57642164, 0.38336043, 0.68644602],\n",
       "        [0.7452246 , 0.07663639, 0.45679414, 0.27762969, 0.49822283]],\n",
       "\n",
       "       [[0.35246662, 0.79942077, 0.69111885, 0.59157238, 0.90907937],\n",
       "        [0.03506399, 0.70787383, 0.79028675, 0.07015978, 0.45887758],\n",
       "        [0.9500951 , 0.88812535, 0.83368941, 0.81890015, 0.64244024]]])"
      ]
     },
     "execution_count": 62,
     "metadata": {},
     "output_type": "execute_result"
    }
   ],
   "source": [
    "# Method 3\n",
    "a = np.random.sample((2, 3, 5))\n",
    "a"
   ]
  },
  {
   "cell_type": "markdown",
   "metadata": {},
   "source": [
    "#### 4. Print *a*.\n"
   ]
  },
  {
   "cell_type": "code",
   "execution_count": 63,
   "metadata": {},
   "outputs": [
    {
     "name": "stdout",
     "output_type": "stream",
     "text": [
      "[[[0.96262916 0.90839864 0.58269439 0.94940268 0.13648753]\n",
      "  [0.80642985 0.54037834 0.57642164 0.38336043 0.68644602]\n",
      "  [0.7452246  0.07663639 0.45679414 0.27762969 0.49822283]]\n",
      "\n",
      " [[0.35246662 0.79942077 0.69111885 0.59157238 0.90907937]\n",
      "  [0.03506399 0.70787383 0.79028675 0.07015978 0.45887758]\n",
      "  [0.9500951  0.88812535 0.83368941 0.81890015 0.64244024]]]\n"
     ]
    }
   ],
   "source": [
    "# your code here\n",
    "print(a)"
   ]
  },
  {
   "cell_type": "markdown",
   "metadata": {},
   "source": [
    "#### 5. Create a 5x2x3 3-dimensional array with all values equaling 1. Assign the array to variable *b*."
   ]
  },
  {
   "cell_type": "code",
   "execution_count": 64,
   "metadata": {},
   "outputs": [],
   "source": [
    "# your code here\n",
    "b = np.ones((5, 2, 3))"
   ]
  },
  {
   "cell_type": "markdown",
   "metadata": {},
   "source": [
    "#### 6. Print *b*.\n"
   ]
  },
  {
   "cell_type": "code",
   "execution_count": 65,
   "metadata": {},
   "outputs": [
    {
     "name": "stdout",
     "output_type": "stream",
     "text": [
      "[[[1. 1. 1.]\n",
      "  [1. 1. 1.]]\n",
      "\n",
      " [[1. 1. 1.]\n",
      "  [1. 1. 1.]]\n",
      "\n",
      " [[1. 1. 1.]\n",
      "  [1. 1. 1.]]\n",
      "\n",
      " [[1. 1. 1.]\n",
      "  [1. 1. 1.]]\n",
      "\n",
      " [[1. 1. 1.]\n",
      "  [1. 1. 1.]]]\n"
     ]
    }
   ],
   "source": [
    "# your code here\n",
    "print(b)"
   ]
  },
  {
   "cell_type": "markdown",
   "metadata": {},
   "source": [
    "#### 7. Do *a* and *b* have the same size? How do you prove that in Python code?"
   ]
  },
  {
   "cell_type": "code",
   "execution_count": 66,
   "metadata": {},
   "outputs": [
    {
     "name": "stdout",
     "output_type": "stream",
     "text": [
      "They have the same size!\n"
     ]
    }
   ],
   "source": [
    "# your code here\n",
    "if a.size == b.size:\n",
    "    print(\"They have the same size!\")\n",
    "else:\n",
    "    print(\"They do not.\")"
   ]
  },
  {
   "cell_type": "markdown",
   "metadata": {},
   "source": [
    "#### 8. Are you able to add *a* and *b*? Why or why not?\n"
   ]
  },
  {
   "cell_type": "code",
   "execution_count": 67,
   "metadata": {},
   "outputs": [
    {
     "name": "stdout",
     "output_type": "stream",
     "text": [
      "No we are not able to add because even tho they have the same size they have different shapes.\n"
     ]
    }
   ],
   "source": [
    "# your answer here\n",
    "print(\"No we are not able to add because even tho they have the same size they have different shapes.\")\n",
    "#c = a + b"
   ]
  },
  {
   "cell_type": "markdown",
   "metadata": {},
   "source": [
    "#### 9. Transpose *b* so that it has the same structure of *a* (i.e. become a 2x3x5 array). Assign the transposed array to variable *c*."
   ]
  },
  {
   "cell_type": "code",
   "execution_count": 68,
   "metadata": {},
   "outputs": [
    {
     "data": {
      "text/plain": [
       "(2, 3, 5)"
      ]
     },
     "execution_count": 68,
     "metadata": {},
     "output_type": "execute_result"
    }
   ],
   "source": [
    "# your code here\n",
    "c = np.transpose(b, axes=(1, 2, 0))\n",
    "c.shape"
   ]
  },
  {
   "cell_type": "markdown",
   "metadata": {},
   "source": [
    "#### 10. Try to add *a* and *c*. Now it should work. Assign the sum to variable *d*. But why does it work now?"
   ]
  },
  {
   "cell_type": "code",
   "execution_count": 69,
   "metadata": {},
   "outputs": [],
   "source": [
    "# your code/answer here\n",
    "d = a + c\n"
   ]
  },
  {
   "cell_type": "markdown",
   "metadata": {},
   "source": [
    "#### 11. Print *a* and *d*. Notice the difference and relation of the two array in terms of the values? Explain."
   ]
  },
  {
   "cell_type": "code",
   "execution_count": 70,
   "metadata": {},
   "outputs": [
    {
     "name": "stdout",
     "output_type": "stream",
     "text": [
      "[[0.96262916 0.90839864 0.58269439 0.94940268 0.13648753]\n",
      " [0.80642985 0.54037834 0.57642164 0.38336043 0.68644602]\n",
      " [0.7452246  0.07663639 0.45679414 0.27762969 0.49822283]]\n",
      "[[1.96262916 1.90839864 1.58269439 1.94940268 1.13648753]\n",
      " [1.80642985 1.54037834 1.57642164 1.38336043 1.68644602]\n",
      " [1.7452246  1.07663639 1.45679414 1.27762969 1.49822283]]\n"
     ]
    }
   ],
   "source": [
    "# your code/answer here\n",
    "print(a[0])\n",
    "print(d[0])\n",
    "\n",
    "# We just added 1? Is that it?"
   ]
  },
  {
   "cell_type": "markdown",
   "metadata": {},
   "source": [
    "#### 12. Multiply *a* and *c*. Assign the result to *e*."
   ]
  },
  {
   "cell_type": "code",
   "execution_count": 71,
   "metadata": {},
   "outputs": [
    {
     "name": "stdout",
     "output_type": "stream",
     "text": [
      "[[[0.96262916 0.90839864 0.58269439 0.94940268 0.13648753]\n",
      "  [0.80642985 0.54037834 0.57642164 0.38336043 0.68644602]\n",
      "  [0.7452246  0.07663639 0.45679414 0.27762969 0.49822283]]\n",
      "\n",
      " [[0.35246662 0.79942077 0.69111885 0.59157238 0.90907937]\n",
      "  [0.03506399 0.70787383 0.79028675 0.07015978 0.45887758]\n",
      "  [0.9500951  0.88812535 0.83368941 0.81890015 0.64244024]]]\n"
     ]
    }
   ],
   "source": [
    "# your code here\n",
    "e = a * c\n",
    "print(e)"
   ]
  },
  {
   "cell_type": "markdown",
   "metadata": {},
   "source": [
    "#### 13. Does *e* equal to *a*? Why or why not?\n"
   ]
  },
  {
   "cell_type": "code",
   "execution_count": 72,
   "metadata": {},
   "outputs": [
    {
     "name": "stdout",
     "output_type": "stream",
     "text": [
      "Yes they're the same!\n"
     ]
    }
   ],
   "source": [
    "# your code/answer here\n",
    "if np.array_equal(e, a):\n",
    "    print(\"Yes they're the same!\")\n",
    "    \n",
    "# Because c is the transpose of b who is only ones. So we are just multiplying a by 1"
   ]
  },
  {
   "cell_type": "markdown",
   "metadata": {},
   "source": [
    "#### 14. Identify the max, min, and mean values in *d*. Assign those values to variables *d_max*, *d_min* and *d_mean*."
   ]
  },
  {
   "cell_type": "code",
   "execution_count": 73,
   "metadata": {},
   "outputs": [
    {
     "name": "stdout",
     "output_type": "stream",
     "text": [
      "1.9626291599671268\n",
      "1.0350639884303612\n",
      "1.6042108830242185\n"
     ]
    }
   ],
   "source": [
    "# your code here\n",
    "d_max = d.max()\n",
    "d_min = d.min()\n",
    "d_mean = d.mean()\n",
    "\n",
    "print(d_max)\n",
    "print(d_min)\n",
    "print(d_mean)"
   ]
  },
  {
   "cell_type": "markdown",
   "metadata": {},
   "source": [
    "#### 15. Now we want to label the values in *d*. First create an empty array *f* with the same shape (i.e. 2x3x5) as *d* using `np.empty`.\n"
   ]
  },
  {
   "cell_type": "code",
   "execution_count": 74,
   "metadata": {},
   "outputs": [],
   "source": [
    "# your code here\n",
    "f = np.empty([2, 3, 5])"
   ]
  },
  {
   "cell_type": "markdown",
   "metadata": {},
   "source": [
    "#### 16. Populate the values in *f*. \n",
    "\n",
    "For each value in *d*, if it's larger than *d_min* but smaller than *d_mean*, assign 25 to the corresponding value in *f*. If a value in *d* is larger than *d_mean* but smaller than *d_max*, assign 75 to the corresponding value in *f*. If a value equals to *d_mean*, assign 50 to the corresponding value in *f*. Assign 0 to the corresponding value(s) in *f* for *d_min* in *d*. Assign 100 to the corresponding value(s) in *f* for *d_max* in *d*. In the end, f should have only the following values: 0, 25, 50, 75, and 100.\n",
    "\n",
    "**Note**: you don't have to use Numpy in this question."
   ]
  },
  {
   "cell_type": "code",
   "execution_count": 75,
   "metadata": {},
   "outputs": [
    {
     "name": "stdout",
     "output_type": "stream",
     "text": [
      "[[[100  75  25  75  25]\n",
      "  [ 75  25  25  25  75]\n",
      "  [ 75  25  25  25  25]]\n",
      "\n",
      " [[ 25  75  75  25  75]\n",
      "  [  0  75  75  25  25]\n",
      "  [ 75  75  75  75  75]]]\n"
     ]
    }
   ],
   "source": [
    "# your code here\n",
    "\n",
    "f = []\n",
    "for x in np.nditer(d):\n",
    "    if d_min < x < d_mean:\n",
    "        f += [25]\n",
    "    if d_mean < x < d_max:\n",
    "        f += [75]\n",
    "    if x == d_mean:\n",
    "        f += [50]\n",
    "    if x == d_min:\n",
    "        f += [0]\n",
    "    if x == d_max:\n",
    "        f += [100]\n",
    "    \n",
    "        \n",
    "f = np.reshape(f, d.shape) \n",
    "print(f)"
   ]
  },
  {
   "cell_type": "markdown",
   "metadata": {},
   "source": [
    "#### 17. Print *d* and *f*. Do you have your expected *f*?\n",
    "For instance, if your *d* is:\n",
    "```python\n",
    "[[[1.85836099, 1.67064465, 1.62576044, 1.40243961, 1.88454931],\n",
    "[1.75354326, 1.69403643, 1.36729252, 1.61415071, 1.12104981],\n",
    "[1.72201435, 1.1862918 , 1.87078449, 1.7726778 , 1.88180042]],\n",
    "[[1.44747908, 1.31673383, 1.02000951, 1.52218947, 1.97066381],\n",
    "[1.79129243, 1.74983003, 1.96028037, 1.85166831, 1.65450881],\n",
    "[1.18068344, 1.9587381 , 1.00656599, 1.93402165, 1.73514584]]]\n",
    "```\n",
    "Your *f* should be:\n",
    "```python\n",
    "[[[ 75.,  75.,  75.,  25.,  75.],\n",
    "[ 75.,  75.,  25.,  25.,  25.],\n",
    "[ 75.,  25.,  75.,  75.,  75.]],\n",
    "[[ 25.,  25.,  25.,  25., 100.],\n",
    "[ 75.,  75.,  75.,  75.,  75.],\n",
    "[ 25.,  75.,   0.,  75.,  75.]]]\n",
    "```"
   ]
  },
  {
   "cell_type": "code",
   "execution_count": 76,
   "metadata": {},
   "outputs": [
    {
     "name": "stdout",
     "output_type": "stream",
     "text": [
      "[[[1.96262916 1.90839864 1.58269439 1.94940268 1.13648753]\n",
      "  [1.80642985 1.54037834 1.57642164 1.38336043 1.68644602]\n",
      "  [1.7452246  1.07663639 1.45679414 1.27762969 1.49822283]]\n",
      "\n",
      " [[1.35246662 1.79942077 1.69111885 1.59157238 1.90907937]\n",
      "  [1.03506399 1.70787383 1.79028675 1.07015978 1.45887758]\n",
      "  [1.9500951  1.88812535 1.83368941 1.81890015 1.64244024]]]\n",
      "[[[100  75  25  75  25]\n",
      "  [ 75  25  25  25  75]\n",
      "  [ 75  25  25  25  25]]\n",
      "\n",
      " [[ 25  75  75  25  75]\n",
      "  [  0  75  75  25  25]\n",
      "  [ 75  75  75  75  75]]]\n"
     ]
    }
   ],
   "source": [
    "# your code here\n",
    "print(d)\n",
    "print(f)"
   ]
  },
  {
   "cell_type": "markdown",
   "metadata": {},
   "source": [
    "#### 18. Bonus question: instead of using numbers (i.e. 0, 25, 50, 75, and 100), use string values  (\"A\", \"B\", \"C\", \"D\", and \"E\") to label the array elements. For the example above, the expected result is:\n",
    "\n",
    "```python\n",
    "[[[ 'D',  'D',  'D',  'B',  'D'],\n",
    "[ 'D',  'D',  'B',  'B',  'B'],\n",
    "[ 'D',  'B',  'D',  'D',  'D']],\n",
    "[[ 'B',  'B',  'B',  'B',  'E'],\n",
    "[ 'D',  'D',  'D',  'D',  'D'],\n",
    "[ 'B',  'D',   'A',  'D', 'D']]]\n",
    "```\n",
    "**Note**: you don't have to use Numpy in this question."
   ]
  },
  {
   "cell_type": "code",
   "execution_count": 77,
   "metadata": {},
   "outputs": [
    {
     "name": "stdout",
     "output_type": "stream",
     "text": [
      "[[['E' 'D' 'B' 'D' 'B']\n",
      "  ['D' 'B' 'B' 'B' 'D']\n",
      "  ['D' 'B' 'B' 'B' 'B']]\n",
      "\n",
      " [['B' 'D' 'D' 'B' 'D']\n",
      "  ['A' 'D' 'D' 'B' 'B']\n",
      "  ['D' 'D' 'D' 'D' 'D']]]\n"
     ]
    }
   ],
   "source": [
    "# your code here\n",
    "\n",
    "j = []\n",
    "for x in np.nditer(d):\n",
    "    if d_min < x < d_mean:\n",
    "        j += ['B']\n",
    "    if d_mean < x < d_max:\n",
    "        j += ['D']\n",
    "    if x == d_mean:\n",
    "        j += ['C']\n",
    "    if x == d_min:\n",
    "        j += ['A']\n",
    "    if x == d_max:\n",
    "        j += ['E']\n",
    "    \n",
    "j = np.reshape(j, d.shape) \n",
    "print(j)"
   ]
  },
  {
   "cell_type": "code",
   "execution_count": null,
   "metadata": {},
   "outputs": [],
   "source": []
  }
 ],
 "metadata": {
  "kernelspec": {
   "display_name": "Python 3",
   "language": "python",
   "name": "python3"
  },
  "language_info": {
   "codemirror_mode": {
    "name": "ipython",
    "version": 3
   },
   "file_extension": ".py",
   "mimetype": "text/x-python",
   "name": "python",
   "nbconvert_exporter": "python",
   "pygments_lexer": "ipython3",
   "version": "3.7.4"
  }
 },
 "nbformat": 4,
 "nbformat_minor": 2
}
